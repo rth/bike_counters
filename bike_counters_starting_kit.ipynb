{
 "cells": [
  {
   "cell_type": "markdown",
   "id": "18cc7ae5-7438-402e-8196-bb931e3e6c6f",
   "metadata": {
    "tags": []
   },
   "source": [
    "# RAMP on predicting cyclist traffic in Paris\n",
    "\n",
    "Authors: *Roman Yurchak (Symerio)*; also parts inspired by the air_passengers starting kit.\n",
    "\n",
    "\n",
    "## Introduction\n",
    "\n",
    "The dataset was collected with cyclist counters installed by Paris city council in multiple locations. It contains hourly information about cyclist traffic, as well as the following features,\n",
    " - counter name\n",
    " - counter site name\n",
    " - date\n",
    " - counter installation date\n",
    " - latitude and longitude\n",
    " \n",
    "Available features are quite scarce. However, **we can also use any external data that can help us to predict the target variable.** "
   ]
  },
  {
   "cell_type": "code",
   "execution_count": 1,
   "id": "d0a4cf3f-8907-443b-adff-6fe13ef29d65",
   "metadata": {},
   "outputs": [],
   "source": [
    "from pathlib import Path\n",
    "\n",
    "import numpy as np\n",
    "import pandas as pd\n",
    "import matplotlib.pyplot as plt\n",
    "import sklearn"
   ]
  },
  {
   "cell_type": "markdown",
   "id": "c5117809-38b8-44f8-8b09-a99989ef1d50",
   "metadata": {},
   "source": [
    "# Loading the data with pandas\n",
    "\n",
    "Data is stored in [Parquet format](https://parquet.apache.org/), an efficient columnar data format. We can load the train set with pandas,"
   ]
  },
  {
   "cell_type": "code",
   "execution_count": 2,
   "id": "61c60288-e71b-46ae-9eb3-d916d2abc876",
   "metadata": {},
   "outputs": [],
   "source": [
    "data = pd.read_parquet(Path('data') / 'train.parquet')"
   ]
  },
  {
   "cell_type": "code",
   "execution_count": 3,
   "id": "745fedf9-07e4-4020-b3b5-484b721675ed",
   "metadata": {},
   "outputs": [
    {
     "data": {
      "text/html": [
       "<div>\n",
       "<style scoped>\n",
       "    .dataframe tbody tr th:only-of-type {\n",
       "        vertical-align: middle;\n",
       "    }\n",
       "\n",
       "    .dataframe tbody tr th {\n",
       "        vertical-align: top;\n",
       "    }\n",
       "\n",
       "    .dataframe thead th {\n",
       "        text-align: right;\n",
       "    }\n",
       "</style>\n",
       "<table border=\"1\" class=\"dataframe\">\n",
       "  <thead>\n",
       "    <tr style=\"text-align: right;\">\n",
       "      <th></th>\n",
       "      <th>counter_id</th>\n",
       "      <th>counter_name</th>\n",
       "      <th>site_id</th>\n",
       "      <th>site_name</th>\n",
       "      <th>bike_count</th>\n",
       "      <th>date</th>\n",
       "      <th>counter_installation_date</th>\n",
       "      <th>coordinates</th>\n",
       "      <th>counter_technical_id</th>\n",
       "      <th>latitude</th>\n",
       "      <th>longitude</th>\n",
       "      <th>log_bike_count</th>\n",
       "    </tr>\n",
       "  </thead>\n",
       "  <tbody>\n",
       "    <tr>\n",
       "      <th>48321</th>\n",
       "      <td>100007049-102007049</td>\n",
       "      <td>28 boulevard Diderot E-O</td>\n",
       "      <td>100007049</td>\n",
       "      <td>28 boulevard Diderot</td>\n",
       "      <td>0.0</td>\n",
       "      <td>2020-09-01 02:00:00</td>\n",
       "      <td>2013-01-18</td>\n",
       "      <td>48.846028,2.375429</td>\n",
       "      <td>Y2H15027244</td>\n",
       "      <td>48.846028</td>\n",
       "      <td>2.375429</td>\n",
       "      <td>0.000000</td>\n",
       "    </tr>\n",
       "    <tr>\n",
       "      <th>48324</th>\n",
       "      <td>100007049-102007049</td>\n",
       "      <td>28 boulevard Diderot E-O</td>\n",
       "      <td>100007049</td>\n",
       "      <td>28 boulevard Diderot</td>\n",
       "      <td>1.0</td>\n",
       "      <td>2020-09-01 03:00:00</td>\n",
       "      <td>2013-01-18</td>\n",
       "      <td>48.846028,2.375429</td>\n",
       "      <td>Y2H15027244</td>\n",
       "      <td>48.846028</td>\n",
       "      <td>2.375429</td>\n",
       "      <td>0.693147</td>\n",
       "    </tr>\n",
       "    <tr>\n",
       "      <th>48327</th>\n",
       "      <td>100007049-102007049</td>\n",
       "      <td>28 boulevard Diderot E-O</td>\n",
       "      <td>100007049</td>\n",
       "      <td>28 boulevard Diderot</td>\n",
       "      <td>0.0</td>\n",
       "      <td>2020-09-01 04:00:00</td>\n",
       "      <td>2013-01-18</td>\n",
       "      <td>48.846028,2.375429</td>\n",
       "      <td>Y2H15027244</td>\n",
       "      <td>48.846028</td>\n",
       "      <td>2.375429</td>\n",
       "      <td>0.000000</td>\n",
       "    </tr>\n",
       "    <tr>\n",
       "      <th>48330</th>\n",
       "      <td>100007049-102007049</td>\n",
       "      <td>28 boulevard Diderot E-O</td>\n",
       "      <td>100007049</td>\n",
       "      <td>28 boulevard Diderot</td>\n",
       "      <td>4.0</td>\n",
       "      <td>2020-09-01 15:00:00</td>\n",
       "      <td>2013-01-18</td>\n",
       "      <td>48.846028,2.375429</td>\n",
       "      <td>Y2H15027244</td>\n",
       "      <td>48.846028</td>\n",
       "      <td>2.375429</td>\n",
       "      <td>1.609438</td>\n",
       "    </tr>\n",
       "    <tr>\n",
       "      <th>48333</th>\n",
       "      <td>100007049-102007049</td>\n",
       "      <td>28 boulevard Diderot E-O</td>\n",
       "      <td>100007049</td>\n",
       "      <td>28 boulevard Diderot</td>\n",
       "      <td>9.0</td>\n",
       "      <td>2020-09-01 18:00:00</td>\n",
       "      <td>2013-01-18</td>\n",
       "      <td>48.846028,2.375429</td>\n",
       "      <td>Y2H15027244</td>\n",
       "      <td>48.846028</td>\n",
       "      <td>2.375429</td>\n",
       "      <td>2.302585</td>\n",
       "    </tr>\n",
       "  </tbody>\n",
       "</table>\n",
       "</div>"
      ],
      "text/plain": [
       "                counter_id              counter_name    site_id  \\\n",
       "48321  100007049-102007049  28 boulevard Diderot E-O  100007049   \n",
       "48324  100007049-102007049  28 boulevard Diderot E-O  100007049   \n",
       "48327  100007049-102007049  28 boulevard Diderot E-O  100007049   \n",
       "48330  100007049-102007049  28 boulevard Diderot E-O  100007049   \n",
       "48333  100007049-102007049  28 boulevard Diderot E-O  100007049   \n",
       "\n",
       "                  site_name  bike_count                date  \\\n",
       "48321  28 boulevard Diderot         0.0 2020-09-01 02:00:00   \n",
       "48324  28 boulevard Diderot         1.0 2020-09-01 03:00:00   \n",
       "48327  28 boulevard Diderot         0.0 2020-09-01 04:00:00   \n",
       "48330  28 boulevard Diderot         4.0 2020-09-01 15:00:00   \n",
       "48333  28 boulevard Diderot         9.0 2020-09-01 18:00:00   \n",
       "\n",
       "      counter_installation_date         coordinates counter_technical_id  \\\n",
       "48321                2013-01-18  48.846028,2.375429          Y2H15027244   \n",
       "48324                2013-01-18  48.846028,2.375429          Y2H15027244   \n",
       "48327                2013-01-18  48.846028,2.375429          Y2H15027244   \n",
       "48330                2013-01-18  48.846028,2.375429          Y2H15027244   \n",
       "48333                2013-01-18  48.846028,2.375429          Y2H15027244   \n",
       "\n",
       "        latitude  longitude  log_bike_count  \n",
       "48321  48.846028   2.375429        0.000000  \n",
       "48324  48.846028   2.375429        0.693147  \n",
       "48327  48.846028   2.375429        0.000000  \n",
       "48330  48.846028   2.375429        1.609438  \n",
       "48333  48.846028   2.375429        2.302585  "
      ]
     },
     "execution_count": 3,
     "metadata": {},
     "output_type": "execute_result"
    }
   ],
   "source": [
    "data.head()"
   ]
  },
  {
   "cell_type": "markdown",
   "id": "e488c773-761d-48fb-9d26-3c4b55e3f2b7",
   "metadata": {},
   "source": [
    "We can check general information about different columns,"
   ]
  },
  {
   "cell_type": "code",
   "execution_count": 4,
   "id": "e2649650-6e2a-4641-8221-266c829aec37",
   "metadata": {},
   "outputs": [
    {
     "name": "stdout",
     "output_type": "stream",
     "text": [
      "<class 'pandas.core.frame.DataFrame'>\n",
      "Int64Index: 455163 entries, 48321 to 928462\n",
      "Data columns (total 12 columns):\n",
      " #   Column                     Non-Null Count   Dtype         \n",
      "---  ------                     --------------   -----         \n",
      " 0   counter_id                 455163 non-null  category      \n",
      " 1   counter_name               455163 non-null  category      \n",
      " 2   site_id                    455163 non-null  int64         \n",
      " 3   site_name                  455163 non-null  category      \n",
      " 4   bike_count                 455163 non-null  float64       \n",
      " 5   date                       455163 non-null  datetime64[ns]\n",
      " 6   counter_installation_date  455163 non-null  datetime64[ns]\n",
      " 7   coordinates                455163 non-null  category      \n",
      " 8   counter_technical_id       455163 non-null  category      \n",
      " 9   latitude                   455163 non-null  float64       \n",
      " 10  longitude                  455163 non-null  float64       \n",
      " 11  log_bike_count             455163 non-null  float64       \n",
      "dtypes: category(5), datetime64[ns](2), float64(4), int64(1)\n",
      "memory usage: 30.0 MB\n"
     ]
    }
   ],
   "source": [
    "data.info()"
   ]
  },
  {
   "cell_type": "markdown",
   "id": "586ebce3-c013-4c5e-ab78-03a8d8d86d7e",
   "metadata": {},
   "source": [
    "and in particular the number of unique entries in each column,"
   ]
  },
  {
   "cell_type": "code",
   "execution_count": 5,
   "id": "0a88d812-daf9-451d-baa6-67bf735ae368",
   "metadata": {},
   "outputs": [
    {
     "data": {
      "text/plain": [
       "counter_id                     56\n",
       "counter_name                   56\n",
       "site_id                        30\n",
       "site_name                      30\n",
       "bike_count                    977\n",
       "date                         8230\n",
       "counter_installation_date      22\n",
       "coordinates                    30\n",
       "counter_technical_id           30\n",
       "latitude                       30\n",
       "longitude                      30\n",
       "log_bike_count                977\n",
       "dtype: int64"
      ]
     },
     "execution_count": 5,
     "metadata": {},
     "output_type": "execute_result"
    }
   ],
   "source": [
    "data.nunique(axis=0)"
   ]
  },
  {
   "cell_type": "markdown",
   "id": "db7504b6-d301-4d37-aa55-4d73b0dcedbd",
   "metadata": {},
   "source": [
    "So we have a 30 counting sites where sometimes multiple counters are installed per location.  We can look at most frequented stations,"
   ]
  },
  {
   "cell_type": "code",
   "execution_count": 6,
   "id": "dd1c75a9-1976-4a97-bf11-76d0026b591b",
   "metadata": {},
   "outputs": [
    {
     "data": {
      "text/html": [
       "<div>\n",
       "<style scoped>\n",
       "    .dataframe tbody tr th:only-of-type {\n",
       "        vertical-align: middle;\n",
       "    }\n",
       "\n",
       "    .dataframe tbody tr th {\n",
       "        vertical-align: top;\n",
       "    }\n",
       "\n",
       "    .dataframe thead th {\n",
       "        text-align: right;\n",
       "    }\n",
       "</style>\n",
       "<table border=\"1\" class=\"dataframe\">\n",
       "  <thead>\n",
       "    <tr style=\"text-align: right;\">\n",
       "      <th></th>\n",
       "      <th></th>\n",
       "      <th>bike_count</th>\n",
       "    </tr>\n",
       "    <tr>\n",
       "      <th>site_name</th>\n",
       "      <th>counter_name</th>\n",
       "      <th></th>\n",
       "    </tr>\n",
       "  </thead>\n",
       "  <tbody>\n",
       "    <tr>\n",
       "      <th>Totem 73 boulevard de Sébastopol</th>\n",
       "      <th>Totem 73 boulevard de Sébastopol S-N</th>\n",
       "      <td>1809231.0</td>\n",
       "    </tr>\n",
       "    <tr>\n",
       "      <th>Totem 64 Rue de Rivoli</th>\n",
       "      <th>Totem 64 Rue de Rivoli O-E</th>\n",
       "      <td>1406900.0</td>\n",
       "    </tr>\n",
       "    <tr>\n",
       "      <th>Totem 73 boulevard de Sébastopol</th>\n",
       "      <th>Totem 73 boulevard de Sébastopol N-S</th>\n",
       "      <td>1357868.0</td>\n",
       "    </tr>\n",
       "    <tr>\n",
       "      <th>67 boulevard Voltaire SE-NO</th>\n",
       "      <th>67 boulevard Voltaire SE-NO</th>\n",
       "      <td>1036575.0</td>\n",
       "    </tr>\n",
       "    <tr>\n",
       "      <th>Totem 64 Rue de Rivoli</th>\n",
       "      <th>Totem 64 Rue de Rivoli E-O</th>\n",
       "      <td>914089.0</td>\n",
       "    </tr>\n",
       "    <tr>\n",
       "      <th>27 quai de la Tournelle</th>\n",
       "      <th>27 quai de la Tournelle SE-NO</th>\n",
       "      <td>888717.0</td>\n",
       "    </tr>\n",
       "    <tr>\n",
       "      <th>Quai d'Orsay</th>\n",
       "      <th>Quai d'Orsay E-O</th>\n",
       "      <td>849724.0</td>\n",
       "    </tr>\n",
       "    <tr>\n",
       "      <th>Totem Cours la Reine</th>\n",
       "      <th>Totem Cours la Reine O-E</th>\n",
       "      <td>806149.0</td>\n",
       "    </tr>\n",
       "    <tr>\n",
       "      <th rowspan=\"2\" valign=\"top\">Face au 48 quai de la marne</th>\n",
       "      <th>Face au 48 quai de la marne SO-NE</th>\n",
       "      <td>806071.0</td>\n",
       "    </tr>\n",
       "    <tr>\n",
       "      <th>Face au 48 quai de la marne NE-SO</th>\n",
       "      <td>759194.0</td>\n",
       "    </tr>\n",
       "  </tbody>\n",
       "</table>\n",
       "</div>"
      ],
      "text/plain": [
       "                                                                       bike_count\n",
       "site_name                        counter_name                                    \n",
       "Totem 73 boulevard de Sébastopol Totem 73 boulevard de Sébastopol S-N   1809231.0\n",
       "Totem 64 Rue de Rivoli           Totem 64 Rue de Rivoli O-E             1406900.0\n",
       "Totem 73 boulevard de Sébastopol Totem 73 boulevard de Sébastopol N-S   1357868.0\n",
       "67 boulevard Voltaire SE-NO      67 boulevard Voltaire SE-NO            1036575.0\n",
       "Totem 64 Rue de Rivoli           Totem 64 Rue de Rivoli E-O              914089.0\n",
       "27 quai de la Tournelle          27 quai de la Tournelle SE-NO           888717.0\n",
       "Quai d'Orsay                     Quai d'Orsay E-O                        849724.0\n",
       "Totem Cours la Reine             Totem Cours la Reine O-E                806149.0\n",
       "Face au 48 quai de la marne      Face au 48 quai de la marne SO-NE       806071.0\n",
       "                                 Face au 48 quai de la marne NE-SO       759194.0"
      ]
     },
     "execution_count": 6,
     "metadata": {},
     "output_type": "execute_result"
    }
   ],
   "source": [
    "data.groupby(['site_name', 'counter_name'])['bike_count'].sum().sort_values(ascending=False).head(10).to_frame()"
   ]
  },
  {
   "cell_type": "markdown",
   "id": "0a1dc688-2649-4f7f-9326-157b08ea4bae",
   "metadata": {},
   "source": [
    "# Visualizing the data\n",
    "\n",
    "\n",
    "Let's visualize the data, starting from the spatial distribution of counters on the map"
   ]
  },
  {
   "cell_type": "code",
   "execution_count": 7,
   "id": "4a1fe386-fb15-4d60-b9f8-8b4b2bc175b7",
   "metadata": {},
   "outputs": [
    {
     "data": {
      "text/html": [
       "<div style=\"width:100%;\"><div style=\"position:relative;width:100%;height:0;padding-bottom:60%;\"><span style=\"color:#565656\">Make this Notebook Trusted to load map: File -> Trust Notebook</span><iframe src=\"about:blank\" style=\"position:absolute;width:100%;height:100%;left:0;top:0;border:none !important;\" data-html=%3C%21DOCTYPE%20html%3E%0A%3Chead%3E%20%20%20%20%0A%20%20%20%20%3Cmeta%20http-equiv%3D%22content-type%22%20content%3D%22text/html%3B%20charset%3DUTF-8%22%20/%3E%0A%20%20%20%20%0A%20%20%20%20%20%20%20%20%3Cscript%3E%0A%20%20%20%20%20%20%20%20%20%20%20%20L_NO_TOUCH%20%3D%20false%3B%0A%20%20%20%20%20%20%20%20%20%20%20%20L_DISABLE_3D%20%3D%20false%3B%0A%20%20%20%20%20%20%20%20%3C/script%3E%0A%20%20%20%20%0A%20%20%20%20%3Cstyle%3Ehtml%2C%20body%20%7Bwidth%3A%20100%25%3Bheight%3A%20100%25%3Bmargin%3A%200%3Bpadding%3A%200%3B%7D%3C/style%3E%0A%20%20%20%20%3Cstyle%3E%23map%20%7Bposition%3Aabsolute%3Btop%3A0%3Bbottom%3A0%3Bright%3A0%3Bleft%3A0%3B%7D%3C/style%3E%0A%20%20%20%20%3Cscript%20src%3D%22https%3A//cdn.jsdelivr.net/npm/leaflet%401.6.0/dist/leaflet.js%22%3E%3C/script%3E%0A%20%20%20%20%3Cscript%20src%3D%22https%3A//code.jquery.com/jquery-1.12.4.min.js%22%3E%3C/script%3E%0A%20%20%20%20%3Cscript%20src%3D%22https%3A//maxcdn.bootstrapcdn.com/bootstrap/3.2.0/js/bootstrap.min.js%22%3E%3C/script%3E%0A%20%20%20%20%3Cscript%20src%3D%22https%3A//cdnjs.cloudflare.com/ajax/libs/Leaflet.awesome-markers/2.0.2/leaflet.awesome-markers.js%22%3E%3C/script%3E%0A%20%20%20%20%3Clink%20rel%3D%22stylesheet%22%20href%3D%22https%3A//cdn.jsdelivr.net/npm/leaflet%401.6.0/dist/leaflet.css%22/%3E%0A%20%20%20%20%3Clink%20rel%3D%22stylesheet%22%20href%3D%22https%3A//maxcdn.bootstrapcdn.com/bootstrap/3.2.0/css/bootstrap.min.css%22/%3E%0A%20%20%20%20%3Clink%20rel%3D%22stylesheet%22%20href%3D%22https%3A//maxcdn.bootstrapcdn.com/bootstrap/3.2.0/css/bootstrap-theme.min.css%22/%3E%0A%20%20%20%20%3Clink%20rel%3D%22stylesheet%22%20href%3D%22https%3A//maxcdn.bootstrapcdn.com/font-awesome/4.6.3/css/font-awesome.min.css%22/%3E%0A%20%20%20%20%3Clink%20rel%3D%22stylesheet%22%20href%3D%22https%3A//cdnjs.cloudflare.com/ajax/libs/Leaflet.awesome-markers/2.0.2/leaflet.awesome-markers.css%22/%3E%0A%20%20%20%20%3Clink%20rel%3D%22stylesheet%22%20href%3D%22https%3A//cdn.jsdelivr.net/gh/python-visualization/folium/folium/templates/leaflet.awesome.rotate.min.css%22/%3E%0A%20%20%20%20%0A%20%20%20%20%20%20%20%20%20%20%20%20%3Cmeta%20name%3D%22viewport%22%20content%3D%22width%3Ddevice-width%2C%0A%20%20%20%20%20%20%20%20%20%20%20%20%20%20%20%20initial-scale%3D1.0%2C%20maximum-scale%3D1.0%2C%20user-scalable%3Dno%22%20/%3E%0A%20%20%20%20%20%20%20%20%20%20%20%20%3Cstyle%3E%0A%20%20%20%20%20%20%20%20%20%20%20%20%20%20%20%20%23map_05cd164000b94c6a822cc1709c76b6e6%20%7B%0A%20%20%20%20%20%20%20%20%20%20%20%20%20%20%20%20%20%20%20%20position%3A%20relative%3B%0A%20%20%20%20%20%20%20%20%20%20%20%20%20%20%20%20%20%20%20%20width%3A%20100.0%25%3B%0A%20%20%20%20%20%20%20%20%20%20%20%20%20%20%20%20%20%20%20%20height%3A%20100.0%25%3B%0A%20%20%20%20%20%20%20%20%20%20%20%20%20%20%20%20%20%20%20%20left%3A%200.0%25%3B%0A%20%20%20%20%20%20%20%20%20%20%20%20%20%20%20%20%20%20%20%20top%3A%200.0%25%3B%0A%20%20%20%20%20%20%20%20%20%20%20%20%20%20%20%20%7D%0A%20%20%20%20%20%20%20%20%20%20%20%20%3C/style%3E%0A%20%20%20%20%20%20%20%20%0A%3C/head%3E%0A%3Cbody%3E%20%20%20%20%0A%20%20%20%20%0A%20%20%20%20%20%20%20%20%20%20%20%20%3Cdiv%20class%3D%22folium-map%22%20id%3D%22map_05cd164000b94c6a822cc1709c76b6e6%22%20%3E%3C/div%3E%0A%20%20%20%20%20%20%20%20%0A%3C/body%3E%0A%3Cscript%3E%20%20%20%20%0A%20%20%20%20%0A%20%20%20%20%20%20%20%20%20%20%20%20var%20map_05cd164000b94c6a822cc1709c76b6e6%20%3D%20L.map%28%0A%20%20%20%20%20%20%20%20%20%20%20%20%20%20%20%20%22map_05cd164000b94c6a822cc1709c76b6e6%22%2C%0A%20%20%20%20%20%20%20%20%20%20%20%20%20%20%20%20%7B%0A%20%20%20%20%20%20%20%20%20%20%20%20%20%20%20%20%20%20%20%20center%3A%20%5B48.85435721991462%2C%202.345528701792545%5D%2C%0A%20%20%20%20%20%20%20%20%20%20%20%20%20%20%20%20%20%20%20%20crs%3A%20L.CRS.EPSG3857%2C%0A%20%20%20%20%20%20%20%20%20%20%20%20%20%20%20%20%20%20%20%20zoom%3A%2013%2C%0A%20%20%20%20%20%20%20%20%20%20%20%20%20%20%20%20%20%20%20%20zoomControl%3A%20true%2C%0A%20%20%20%20%20%20%20%20%20%20%20%20%20%20%20%20%20%20%20%20preferCanvas%3A%20false%2C%0A%20%20%20%20%20%20%20%20%20%20%20%20%20%20%20%20%7D%0A%20%20%20%20%20%20%20%20%20%20%20%20%29%3B%0A%0A%20%20%20%20%20%20%20%20%20%20%20%20%0A%0A%20%20%20%20%20%20%20%20%0A%20%20%20%20%0A%20%20%20%20%20%20%20%20%20%20%20%20var%20tile_layer_4f7128c5c9d04a75bfedf39e19772011%20%3D%20L.tileLayer%28%0A%20%20%20%20%20%20%20%20%20%20%20%20%20%20%20%20%22https%3A//%7Bs%7D.tile.openstreetmap.org/%7Bz%7D/%7Bx%7D/%7By%7D.png%22%2C%0A%20%20%20%20%20%20%20%20%20%20%20%20%20%20%20%20%7B%22attribution%22%3A%20%22Data%20by%20%5Cu0026copy%3B%20%5Cu003ca%20href%3D%5C%22http%3A//openstreetmap.org%5C%22%5Cu003eOpenStreetMap%5Cu003c/a%5Cu003e%2C%20under%20%5Cu003ca%20href%3D%5C%22http%3A//www.openstreetmap.org/copyright%5C%22%5Cu003eODbL%5Cu003c/a%5Cu003e.%22%2C%20%22detectRetina%22%3A%20false%2C%20%22maxNativeZoom%22%3A%2018%2C%20%22maxZoom%22%3A%2018%2C%20%22minZoom%22%3A%200%2C%20%22noWrap%22%3A%20false%2C%20%22opacity%22%3A%201%2C%20%22subdomains%22%3A%20%22abc%22%2C%20%22tms%22%3A%20false%7D%0A%20%20%20%20%20%20%20%20%20%20%20%20%29.addTo%28map_05cd164000b94c6a822cc1709c76b6e6%29%3B%0A%20%20%20%20%20%20%20%20%0A%20%20%20%20%0A%20%20%20%20%20%20%20%20%20%20%20%20var%20marker_83be01d3d4844290bf39f3e3e70750fc%20%3D%20L.marker%28%0A%20%20%20%20%20%20%20%20%20%20%20%20%20%20%20%20%5B48.846028%2C%202.375429%5D%2C%0A%20%20%20%20%20%20%20%20%20%20%20%20%20%20%20%20%7B%7D%0A%20%20%20%20%20%20%20%20%20%20%20%20%29.addTo%28map_05cd164000b94c6a822cc1709c76b6e6%29%3B%0A%20%20%20%20%20%20%20%20%0A%20%20%20%20%0A%20%20%20%20%20%20%20%20var%20popup_ec354ea6e23249299bb26dd08eab0640%20%3D%20L.popup%28%7B%22maxWidth%22%3A%20%22100%25%22%7D%29%3B%0A%0A%20%20%20%20%20%20%20%20%0A%20%20%20%20%20%20%20%20%20%20%20%20var%20html_1fe44e346864416492ac2daa05206db6%20%3D%20%24%28%60%3Cdiv%20id%3D%22html_1fe44e346864416492ac2daa05206db6%22%20style%3D%22width%3A%20100.0%25%3B%20height%3A%20100.0%25%3B%22%3E%3Ci%3EMt.%20Hood%20Meadows%3C/i%3E%3C/div%3E%60%29%5B0%5D%3B%0A%20%20%20%20%20%20%20%20%20%20%20%20popup_ec354ea6e23249299bb26dd08eab0640.setContent%28html_1fe44e346864416492ac2daa05206db6%29%3B%0A%20%20%20%20%20%20%20%20%0A%0A%20%20%20%20%20%20%20%20marker_83be01d3d4844290bf39f3e3e70750fc.bindPopup%28popup_ec354ea6e23249299bb26dd08eab0640%29%0A%20%20%20%20%20%20%20%20%3B%0A%0A%20%20%20%20%20%20%20%20%0A%20%20%20%20%0A%20%20%20%20%0A%20%20%20%20%20%20%20%20%20%20%20%20var%20marker_1927fc02932149efb7f31f59040f43b9%20%3D%20L.marker%28%0A%20%20%20%20%20%20%20%20%20%20%20%20%20%20%20%20%5B48.83436%2C%202.377%5D%2C%0A%20%20%20%20%20%20%20%20%20%20%20%20%20%20%20%20%7B%7D%0A%20%20%20%20%20%20%20%20%20%20%20%20%29.addTo%28map_05cd164000b94c6a822cc1709c76b6e6%29%3B%0A%20%20%20%20%20%20%20%20%0A%20%20%20%20%0A%20%20%20%20%20%20%20%20var%20popup_f0d05ab172a74f7abd24fceba8801dc4%20%3D%20L.popup%28%7B%22maxWidth%22%3A%20%22100%25%22%7D%29%3B%0A%0A%20%20%20%20%20%20%20%20%0A%20%20%20%20%20%20%20%20%20%20%20%20var%20html_e23fbfd6a9254d21b6fab8552ec131b0%20%3D%20%24%28%60%3Cdiv%20id%3D%22html_e23fbfd6a9254d21b6fab8552ec131b0%22%20style%3D%22width%3A%20100.0%25%3B%20height%3A%20100.0%25%3B%22%3E%3Ci%3EMt.%20Hood%20Meadows%3C/i%3E%3C/div%3E%60%29%5B0%5D%3B%0A%20%20%20%20%20%20%20%20%20%20%20%20popup_f0d05ab172a74f7abd24fceba8801dc4.setContent%28html_e23fbfd6a9254d21b6fab8552ec131b0%29%3B%0A%20%20%20%20%20%20%20%20%0A%0A%20%20%20%20%20%20%20%20marker_1927fc02932149efb7f31f59040f43b9.bindPopup%28popup_f0d05ab172a74f7abd24fceba8801dc4%29%0A%20%20%20%20%20%20%20%20%3B%0A%0A%20%20%20%20%20%20%20%20%0A%20%20%20%20%0A%20%20%20%20%0A%20%20%20%20%20%20%20%20%20%20%20%20var%20marker_0b67b7408ae24a69bd8bc0a074d1f738%20%3D%20L.marker%28%0A%20%20%20%20%20%20%20%20%20%20%20%20%20%20%20%20%5B48.85372%2C%202.35702%5D%2C%0A%20%20%20%20%20%20%20%20%20%20%20%20%20%20%20%20%7B%7D%0A%20%20%20%20%20%20%20%20%20%20%20%20%29.addTo%28map_05cd164000b94c6a822cc1709c76b6e6%29%3B%0A%20%20%20%20%20%20%20%20%0A%20%20%20%20%0A%20%20%20%20%20%20%20%20var%20popup_b3349020e12f4d5d80f844742afd1bfd%20%3D%20L.popup%28%7B%22maxWidth%22%3A%20%22100%25%22%7D%29%3B%0A%0A%20%20%20%20%20%20%20%20%0A%20%20%20%20%20%20%20%20%20%20%20%20var%20html_b9d4a1dde511477b9f0506cbaba43c0e%20%3D%20%24%28%60%3Cdiv%20id%3D%22html_b9d4a1dde511477b9f0506cbaba43c0e%22%20style%3D%22width%3A%20100.0%25%3B%20height%3A%20100.0%25%3B%22%3E%3Ci%3EMt.%20Hood%20Meadows%3C/i%3E%3C/div%3E%60%29%5B0%5D%3B%0A%20%20%20%20%20%20%20%20%20%20%20%20popup_b3349020e12f4d5d80f844742afd1bfd.setContent%28html_b9d4a1dde511477b9f0506cbaba43c0e%29%3B%0A%20%20%20%20%20%20%20%20%0A%0A%20%20%20%20%20%20%20%20marker_0b67b7408ae24a69bd8bc0a074d1f738.bindPopup%28popup_b3349020e12f4d5d80f844742afd1bfd%29%0A%20%20%20%20%20%20%20%20%3B%0A%0A%20%20%20%20%20%20%20%20%0A%20%20%20%20%0A%20%20%20%20%0A%20%20%20%20%20%20%20%20%20%20%20%20var%20marker_26ed017645954fdb87b5edea06dd3818%20%3D%20L.marker%28%0A%20%20%20%20%20%20%20%20%20%20%20%20%20%20%20%20%5B48.8484%2C%202.27586%5D%2C%0A%20%20%20%20%20%20%20%20%20%20%20%20%20%20%20%20%7B%7D%0A%20%20%20%20%20%20%20%20%20%20%20%20%29.addTo%28map_05cd164000b94c6a822cc1709c76b6e6%29%3B%0A%20%20%20%20%20%20%20%20%0A%20%20%20%20%0A%20%20%20%20%20%20%20%20var%20popup_36f061b31c5e4e0f9a760060497aa0c5%20%3D%20L.popup%28%7B%22maxWidth%22%3A%20%22100%25%22%7D%29%3B%0A%0A%20%20%20%20%20%20%20%20%0A%20%20%20%20%20%20%20%20%20%20%20%20var%20html_b9be9da9df3d4db582c58ebcba600a0b%20%3D%20%24%28%60%3Cdiv%20id%3D%22html_b9be9da9df3d4db582c58ebcba600a0b%22%20style%3D%22width%3A%20100.0%25%3B%20height%3A%20100.0%25%3B%22%3E%3Ci%3EMt.%20Hood%20Meadows%3C/i%3E%3C/div%3E%60%29%5B0%5D%3B%0A%20%20%20%20%20%20%20%20%20%20%20%20popup_36f061b31c5e4e0f9a760060497aa0c5.setContent%28html_b9be9da9df3d4db582c58ebcba600a0b%29%3B%0A%20%20%20%20%20%20%20%20%0A%0A%20%20%20%20%20%20%20%20marker_26ed017645954fdb87b5edea06dd3818.bindPopup%28popup_36f061b31c5e4e0f9a760060497aa0c5%29%0A%20%20%20%20%20%20%20%20%3B%0A%0A%20%20%20%20%20%20%20%20%0A%20%20%20%20%0A%20%20%20%20%0A%20%20%20%20%20%20%20%20%20%20%20%20var%20marker_fee0eb7fe5d14c45b8cd7d159c8b2894%20%3D%20L.marker%28%0A%20%20%20%20%20%20%20%20%20%20%20%20%20%20%20%20%5B48.86149%2C%202.37376%5D%2C%0A%20%20%20%20%20%20%20%20%20%20%20%20%20%20%20%20%7B%7D%0A%20%20%20%20%20%20%20%20%20%20%20%20%29.addTo%28map_05cd164000b94c6a822cc1709c76b6e6%29%3B%0A%20%20%20%20%20%20%20%20%0A%20%20%20%20%0A%20%20%20%20%20%20%20%20var%20popup_c58b8f67555449cfa70e178f7c55d99d%20%3D%20L.popup%28%7B%22maxWidth%22%3A%20%22100%25%22%7D%29%3B%0A%0A%20%20%20%20%20%20%20%20%0A%20%20%20%20%20%20%20%20%20%20%20%20var%20html_6746ea9f4f15447db523917b85ca74ea%20%3D%20%24%28%60%3Cdiv%20id%3D%22html_6746ea9f4f15447db523917b85ca74ea%22%20style%3D%22width%3A%20100.0%25%3B%20height%3A%20100.0%25%3B%22%3E%3Ci%3EMt.%20Hood%20Meadows%3C/i%3E%3C/div%3E%60%29%5B0%5D%3B%0A%20%20%20%20%20%20%20%20%20%20%20%20popup_c58b8f67555449cfa70e178f7c55d99d.setContent%28html_6746ea9f4f15447db523917b85ca74ea%29%3B%0A%20%20%20%20%20%20%20%20%0A%0A%20%20%20%20%20%20%20%20marker_fee0eb7fe5d14c45b8cd7d159c8b2894.bindPopup%28popup_c58b8f67555449cfa70e178f7c55d99d%29%0A%20%20%20%20%20%20%20%20%3B%0A%0A%20%20%20%20%20%20%20%20%0A%20%20%20%20%0A%20%20%20%20%0A%20%20%20%20%20%20%20%20%20%20%20%20var%20marker_681048056c514fc5abc137430f96c46c%20%3D%20L.marker%28%0A%20%20%20%20%20%20%20%20%20%20%20%20%20%20%20%20%5B48.89172%2C%202.38531%5D%2C%0A%20%20%20%20%20%20%20%20%20%20%20%20%20%20%20%20%7B%7D%0A%20%20%20%20%20%20%20%20%20%20%20%20%29.addTo%28map_05cd164000b94c6a822cc1709c76b6e6%29%3B%0A%20%20%20%20%20%20%20%20%0A%20%20%20%20%0A%20%20%20%20%20%20%20%20var%20popup_a5e304f7d8af4ec7af9c84ccb1e767b1%20%3D%20L.popup%28%7B%22maxWidth%22%3A%20%22100%25%22%7D%29%3B%0A%0A%20%20%20%20%20%20%20%20%0A%20%20%20%20%20%20%20%20%20%20%20%20var%20html_f612106df12343228278e901c9ddb0ea%20%3D%20%24%28%60%3Cdiv%20id%3D%22html_f612106df12343228278e901c9ddb0ea%22%20style%3D%22width%3A%20100.0%25%3B%20height%3A%20100.0%25%3B%22%3E%3Ci%3EMt.%20Hood%20Meadows%3C/i%3E%3C/div%3E%60%29%5B0%5D%3B%0A%20%20%20%20%20%20%20%20%20%20%20%20popup_a5e304f7d8af4ec7af9c84ccb1e767b1.setContent%28html_f612106df12343228278e901c9ddb0ea%29%3B%0A%20%20%20%20%20%20%20%20%0A%0A%20%20%20%20%20%20%20%20marker_681048056c514fc5abc137430f96c46c.bindPopup%28popup_a5e304f7d8af4ec7af9c84ccb1e767b1%29%0A%20%20%20%20%20%20%20%20%3B%0A%0A%20%20%20%20%20%20%20%20%0A%20%20%20%20%0A%20%20%20%20%0A%20%20%20%20%20%20%20%20%20%20%20%20var%20marker_634963fd9ee142eb876afd247dbce3e9%20%3D%20L.marker%28%0A%20%20%20%20%20%20%20%20%20%20%20%20%20%20%20%20%5B48.890457%2C%202.368852%5D%2C%0A%20%20%20%20%20%20%20%20%20%20%20%20%20%20%20%20%7B%7D%0A%20%20%20%20%20%20%20%20%20%20%20%20%29.addTo%28map_05cd164000b94c6a822cc1709c76b6e6%29%3B%0A%20%20%20%20%20%20%20%20%0A%20%20%20%20%0A%20%20%20%20%20%20%20%20var%20popup_3866cea70bd7445eb4213f1c74bc3250%20%3D%20L.popup%28%7B%22maxWidth%22%3A%20%22100%25%22%7D%29%3B%0A%0A%20%20%20%20%20%20%20%20%0A%20%20%20%20%20%20%20%20%20%20%20%20var%20html_3cdf6b991d874aeda76dd276d1b41989%20%3D%20%24%28%60%3Cdiv%20id%3D%22html_3cdf6b991d874aeda76dd276d1b41989%22%20style%3D%22width%3A%20100.0%25%3B%20height%3A%20100.0%25%3B%22%3E%3Ci%3EMt.%20Hood%20Meadows%3C/i%3E%3C/div%3E%60%29%5B0%5D%3B%0A%20%20%20%20%20%20%20%20%20%20%20%20popup_3866cea70bd7445eb4213f1c74bc3250.setContent%28html_3cdf6b991d874aeda76dd276d1b41989%29%3B%0A%20%20%20%20%20%20%20%20%0A%0A%20%20%20%20%20%20%20%20marker_634963fd9ee142eb876afd247dbce3e9.bindPopup%28popup_3866cea70bd7445eb4213f1c74bc3250%29%0A%20%20%20%20%20%20%20%20%3B%0A%0A%20%20%20%20%20%20%20%20%0A%20%20%20%20%0A%20%20%20%20%0A%20%20%20%20%20%20%20%20%20%20%20%20var%20marker_3c49178dc04f4a6f85576b3ca19640ec%20%3D%20L.marker%28%0A%20%20%20%20%20%20%20%20%20%20%20%20%20%20%20%20%5B48.829523%2C%202.38699%5D%2C%0A%20%20%20%20%20%20%20%20%20%20%20%20%20%20%20%20%7B%7D%0A%20%20%20%20%20%20%20%20%20%20%20%20%29.addTo%28map_05cd164000b94c6a822cc1709c76b6e6%29%3B%0A%20%20%20%20%20%20%20%20%0A%20%20%20%20%0A%20%20%20%20%20%20%20%20var%20popup_2acc97768a0e4b11a3c60199e0229e13%20%3D%20L.popup%28%7B%22maxWidth%22%3A%20%22100%25%22%7D%29%3B%0A%0A%20%20%20%20%20%20%20%20%0A%20%20%20%20%20%20%20%20%20%20%20%20var%20html_7c0021b69a6541df95320470a8e92dc5%20%3D%20%24%28%60%3Cdiv%20id%3D%22html_7c0021b69a6541df95320470a8e92dc5%22%20style%3D%22width%3A%20100.0%25%3B%20height%3A%20100.0%25%3B%22%3E%3Ci%3EMt.%20Hood%20Meadows%3C/i%3E%3C/div%3E%60%29%5B0%5D%3B%0A%20%20%20%20%20%20%20%20%20%20%20%20popup_2acc97768a0e4b11a3c60199e0229e13.setContent%28html_7c0021b69a6541df95320470a8e92dc5%29%3B%0A%20%20%20%20%20%20%20%20%0A%0A%20%20%20%20%20%20%20%20marker_3c49178dc04f4a6f85576b3ca19640ec.bindPopup%28popup_2acc97768a0e4b11a3c60199e0229e13%29%0A%20%20%20%20%20%20%20%20%3B%0A%0A%20%20%20%20%20%20%20%20%0A%20%20%20%20%0A%20%20%20%20%0A%20%20%20%20%20%20%20%20%20%20%20%20var%20marker_1bee0d1d0fcc4327a0a4062e18cd0501%20%3D%20L.marker%28%0A%20%20%20%20%20%20%20%20%20%20%20%20%20%20%20%20%5B48.82636%2C%202.30303%5D%2C%0A%20%20%20%20%20%20%20%20%20%20%20%20%20%20%20%20%7B%7D%0A%20%20%20%20%20%20%20%20%20%20%20%20%29.addTo%28map_05cd164000b94c6a822cc1709c76b6e6%29%3B%0A%20%20%20%20%20%20%20%20%0A%20%20%20%20%0A%20%20%20%20%20%20%20%20var%20popup_5ac4d2742f6c4b86bd4ee87e8c8657a9%20%3D%20L.popup%28%7B%22maxWidth%22%3A%20%22100%25%22%7D%29%3B%0A%0A%20%20%20%20%20%20%20%20%0A%20%20%20%20%20%20%20%20%20%20%20%20var%20html_26600660e5cc46b0acea658b4f35c851%20%3D%20%24%28%60%3Cdiv%20id%3D%22html_26600660e5cc46b0acea658b4f35c851%22%20style%3D%22width%3A%20100.0%25%3B%20height%3A%20100.0%25%3B%22%3E%3Ci%3EMt.%20Hood%20Meadows%3C/i%3E%3C/div%3E%60%29%5B0%5D%3B%0A%20%20%20%20%20%20%20%20%20%20%20%20popup_5ac4d2742f6c4b86bd4ee87e8c8657a9.setContent%28html_26600660e5cc46b0acea658b4f35c851%29%3B%0A%20%20%20%20%20%20%20%20%0A%0A%20%20%20%20%20%20%20%20marker_1bee0d1d0fcc4327a0a4062e18cd0501.bindPopup%28popup_5ac4d2742f6c4b86bd4ee87e8c8657a9%29%0A%20%20%20%20%20%20%20%20%3B%0A%0A%20%20%20%20%20%20%20%20%0A%20%20%20%20%0A%20%20%20%20%0A%20%20%20%20%20%20%20%20%20%20%20%20var%20marker_de275cf19ea84c55bb61ebddb9ea25b5%20%3D%20L.marker%28%0A%20%20%20%20%20%20%20%20%20%20%20%20%20%20%20%20%5B48.89141%2C%202.38482%5D%2C%0A%20%20%20%20%20%20%20%20%20%20%20%20%20%20%20%20%7B%7D%0A%20%20%20%20%20%20%20%20%20%20%20%20%29.addTo%28map_05cd164000b94c6a822cc1709c76b6e6%29%3B%0A%20%20%20%20%20%20%20%20%0A%20%20%20%20%0A%20%20%20%20%20%20%20%20var%20popup_15e2c0d5509d419292ef61a257bd8473%20%3D%20L.popup%28%7B%22maxWidth%22%3A%20%22100%25%22%7D%29%3B%0A%0A%20%20%20%20%20%20%20%20%0A%20%20%20%20%20%20%20%20%20%20%20%20var%20html_3aeb2e700c094bba98aa825c5ae529c5%20%3D%20%24%28%60%3Cdiv%20id%3D%22html_3aeb2e700c094bba98aa825c5ae529c5%22%20style%3D%22width%3A%20100.0%25%3B%20height%3A%20100.0%25%3B%22%3E%3Ci%3EMt.%20Hood%20Meadows%3C/i%3E%3C/div%3E%60%29%5B0%5D%3B%0A%20%20%20%20%20%20%20%20%20%20%20%20popup_15e2c0d5509d419292ef61a257bd8473.setContent%28html_3aeb2e700c094bba98aa825c5ae529c5%29%3B%0A%20%20%20%20%20%20%20%20%0A%0A%20%20%20%20%20%20%20%20marker_de275cf19ea84c55bb61ebddb9ea25b5.bindPopup%28popup_15e2c0d5509d419292ef61a257bd8473%29%0A%20%20%20%20%20%20%20%20%3B%0A%0A%20%20%20%20%20%20%20%20%0A%20%20%20%20%0A%20%20%20%20%0A%20%20%20%20%20%20%20%20%20%20%20%20var%20marker_8291125aa8ec4a938b161e63fb51d7a1%20%3D%20L.marker%28%0A%20%20%20%20%20%20%20%20%20%20%20%20%20%20%20%20%5B48.840801%2C%202.333233%5D%2C%0A%20%20%20%20%20%20%20%20%20%20%20%20%20%20%20%20%7B%7D%0A%20%20%20%20%20%20%20%20%20%20%20%20%29.addTo%28map_05cd164000b94c6a822cc1709c76b6e6%29%3B%0A%20%20%20%20%20%20%20%20%0A%20%20%20%20%0A%20%20%20%20%20%20%20%20var%20popup_b4ef2855e7c140bf988348fdea43b601%20%3D%20L.popup%28%7B%22maxWidth%22%3A%20%22100%25%22%7D%29%3B%0A%0A%20%20%20%20%20%20%20%20%0A%20%20%20%20%20%20%20%20%20%20%20%20var%20html_62df5706325d4f5fbb2c3ac80f1f2254%20%3D%20%24%28%60%3Cdiv%20id%3D%22html_62df5706325d4f5fbb2c3ac80f1f2254%22%20style%3D%22width%3A%20100.0%25%3B%20height%3A%20100.0%25%3B%22%3E%3Ci%3EMt.%20Hood%20Meadows%3C/i%3E%3C/div%3E%60%29%5B0%5D%3B%0A%20%20%20%20%20%20%20%20%20%20%20%20popup_b4ef2855e7c140bf988348fdea43b601.setContent%28html_62df5706325d4f5fbb2c3ac80f1f2254%29%3B%0A%20%20%20%20%20%20%20%20%0A%0A%20%20%20%20%20%20%20%20marker_8291125aa8ec4a938b161e63fb51d7a1.bindPopup%28popup_b4ef2855e7c140bf988348fdea43b601%29%0A%20%20%20%20%20%20%20%20%3B%0A%0A%20%20%20%20%20%20%20%20%0A%20%20%20%20%0A%20%20%20%20%0A%20%20%20%20%20%20%20%20%20%20%20%20var%20marker_8d77f511a10b46149098a2cb998e6fc2%20%3D%20L.marker%28%0A%20%20%20%20%20%20%20%20%20%20%20%20%20%20%20%20%5B48.85735%2C%202.35211%5D%2C%0A%20%20%20%20%20%20%20%20%20%20%20%20%20%20%20%20%7B%7D%0A%20%20%20%20%20%20%20%20%20%20%20%20%29.addTo%28map_05cd164000b94c6a822cc1709c76b6e6%29%3B%0A%20%20%20%20%20%20%20%20%0A%20%20%20%20%0A%20%20%20%20%20%20%20%20var%20popup_cc81b3a36bb94e3b83b885ac0a978809%20%3D%20L.popup%28%7B%22maxWidth%22%3A%20%22100%25%22%7D%29%3B%0A%0A%20%20%20%20%20%20%20%20%0A%20%20%20%20%20%20%20%20%20%20%20%20var%20html_724fa04e41b24cddb21d5f4755447378%20%3D%20%24%28%60%3Cdiv%20id%3D%22html_724fa04e41b24cddb21d5f4755447378%22%20style%3D%22width%3A%20100.0%25%3B%20height%3A%20100.0%25%3B%22%3E%3Ci%3EMt.%20Hood%20Meadows%3C/i%3E%3C/div%3E%60%29%5B0%5D%3B%0A%20%20%20%20%20%20%20%20%20%20%20%20popup_cc81b3a36bb94e3b83b885ac0a978809.setContent%28html_724fa04e41b24cddb21d5f4755447378%29%3B%0A%20%20%20%20%20%20%20%20%0A%0A%20%20%20%20%20%20%20%20marker_8d77f511a10b46149098a2cb998e6fc2.bindPopup%28popup_cc81b3a36bb94e3b83b885ac0a978809%29%0A%20%20%20%20%20%20%20%20%3B%0A%0A%20%20%20%20%20%20%20%20%0A%20%20%20%20%0A%20%20%20%20%0A%20%20%20%20%20%20%20%20%20%20%20%20var%20marker_5942179f78504a7dbd28bc74d9c7b9f3%20%3D%20L.marker%28%0A%20%20%20%20%20%20%20%20%20%20%20%20%20%20%20%20%5B48.86282%2C%202.31061%5D%2C%0A%20%20%20%20%20%20%20%20%20%20%20%20%20%20%20%20%7B%7D%0A%20%20%20%20%20%20%20%20%20%20%20%20%29.addTo%28map_05cd164000b94c6a822cc1709c76b6e6%29%3B%0A%20%20%20%20%20%20%20%20%0A%20%20%20%20%0A%20%20%20%20%20%20%20%20var%20popup_1c5b7a22882f4852be823e72cb7e658f%20%3D%20L.popup%28%7B%22maxWidth%22%3A%20%22100%25%22%7D%29%3B%0A%0A%20%20%20%20%20%20%20%20%0A%20%20%20%20%20%20%20%20%20%20%20%20var%20html_70ab49ead7104ec49bde448b3d843ff7%20%3D%20%24%28%60%3Cdiv%20id%3D%22html_70ab49ead7104ec49bde448b3d843ff7%22%20style%3D%22width%3A%20100.0%25%3B%20height%3A%20100.0%25%3B%22%3E%3Ci%3EMt.%20Hood%20Meadows%3C/i%3E%3C/div%3E%60%29%5B0%5D%3B%0A%20%20%20%20%20%20%20%20%20%20%20%20popup_1c5b7a22882f4852be823e72cb7e658f.setContent%28html_70ab49ead7104ec49bde448b3d843ff7%29%3B%0A%20%20%20%20%20%20%20%20%0A%0A%20%20%20%20%20%20%20%20marker_5942179f78504a7dbd28bc74d9c7b9f3.bindPopup%28popup_1c5b7a22882f4852be823e72cb7e658f%29%0A%20%20%20%20%20%20%20%20%3B%0A%0A%20%20%20%20%20%20%20%20%0A%20%20%20%20%0A%20%20%20%20%0A%20%20%20%20%20%20%20%20%20%20%20%20var%20marker_d599e1fcf40e4d6e8ff78d5636d85820%20%3D%20L.marker%28%0A%20%20%20%20%20%20%20%20%20%20%20%20%20%20%20%20%5B48.86378%2C%202.32003%5D%2C%0A%20%20%20%20%20%20%20%20%20%20%20%20%20%20%20%20%7B%7D%0A%20%20%20%20%20%20%20%20%20%20%20%20%29.addTo%28map_05cd164000b94c6a822cc1709c76b6e6%29%3B%0A%20%20%20%20%20%20%20%20%0A%20%20%20%20%0A%20%20%20%20%20%20%20%20var%20popup_4d3dfe12eaa44500bf772ddccef77ad5%20%3D%20L.popup%28%7B%22maxWidth%22%3A%20%22100%25%22%7D%29%3B%0A%0A%20%20%20%20%20%20%20%20%0A%20%20%20%20%20%20%20%20%20%20%20%20var%20html_63bea9c80da042be979b29965ad2b86c%20%3D%20%24%28%60%3Cdiv%20id%3D%22html_63bea9c80da042be979b29965ad2b86c%22%20style%3D%22width%3A%20100.0%25%3B%20height%3A%20100.0%25%3B%22%3E%3Ci%3EMt.%20Hood%20Meadows%3C/i%3E%3C/div%3E%60%29%5B0%5D%3B%0A%20%20%20%20%20%20%20%20%20%20%20%20popup_4d3dfe12eaa44500bf772ddccef77ad5.setContent%28html_63bea9c80da042be979b29965ad2b86c%29%3B%0A%20%20%20%20%20%20%20%20%0A%0A%20%20%20%20%20%20%20%20marker_d599e1fcf40e4d6e8ff78d5636d85820.bindPopup%28popup_4d3dfe12eaa44500bf772ddccef77ad5%29%0A%20%20%20%20%20%20%20%20%3B%0A%0A%20%20%20%20%20%20%20%20%0A%20%20%20%20%0A%20%20%20%20%0A%20%20%20%20%20%20%20%20%20%20%20%20var%20marker_0ea70d08a367448194142b349f67fa5a%20%3D%20L.marker%28%0A%20%20%20%20%20%20%20%20%20%20%20%20%20%20%20%20%5B48.86284%2C%202.310345%5D%2C%0A%20%20%20%20%20%20%20%20%20%20%20%20%20%20%20%20%7B%7D%0A%20%20%20%20%20%20%20%20%20%20%20%20%29.addTo%28map_05cd164000b94c6a822cc1709c76b6e6%29%3B%0A%20%20%20%20%20%20%20%20%0A%20%20%20%20%0A%20%20%20%20%20%20%20%20var%20popup_a9d8dc925c004ca0826a45956c5100ab%20%3D%20L.popup%28%7B%22maxWidth%22%3A%20%22100%25%22%7D%29%3B%0A%0A%20%20%20%20%20%20%20%20%0A%20%20%20%20%20%20%20%20%20%20%20%20var%20html_3122f22f5ab74c29ab662dd4b4c1beda%20%3D%20%24%28%60%3Cdiv%20id%3D%22html_3122f22f5ab74c29ab662dd4b4c1beda%22%20style%3D%22width%3A%20100.0%25%3B%20height%3A%20100.0%25%3B%22%3E%3Ci%3EMt.%20Hood%20Meadows%3C/i%3E%3C/div%3E%60%29%5B0%5D%3B%0A%20%20%20%20%20%20%20%20%20%20%20%20popup_a9d8dc925c004ca0826a45956c5100ab.setContent%28html_3122f22f5ab74c29ab662dd4b4c1beda%29%3B%0A%20%20%20%20%20%20%20%20%0A%0A%20%20%20%20%20%20%20%20marker_0ea70d08a367448194142b349f67fa5a.bindPopup%28popup_a9d8dc925c004ca0826a45956c5100ab%29%0A%20%20%20%20%20%20%20%20%3B%0A%0A%20%20%20%20%20%20%20%20%0A%20%20%20%20%0A%20%20%20%20%0A%20%20%20%20%20%20%20%20%20%20%20%20var%20marker_12098c6d452b4d2dbefb594fb6e0e647%20%3D%20L.marker%28%0A%20%20%20%20%20%20%20%20%20%20%20%20%20%20%20%20%5B48.830331%2C%202.400551%5D%2C%0A%20%20%20%20%20%20%20%20%20%20%20%20%20%20%20%20%7B%7D%0A%20%20%20%20%20%20%20%20%20%20%20%20%29.addTo%28map_05cd164000b94c6a822cc1709c76b6e6%29%3B%0A%20%20%20%20%20%20%20%20%0A%20%20%20%20%0A%20%20%20%20%20%20%20%20var%20popup_26848932f7b040e8b3a371f1e19fef93%20%3D%20L.popup%28%7B%22maxWidth%22%3A%20%22100%25%22%7D%29%3B%0A%0A%20%20%20%20%20%20%20%20%0A%20%20%20%20%20%20%20%20%20%20%20%20var%20html_bf066adcfe1847bda794415b888529cd%20%3D%20%24%28%60%3Cdiv%20id%3D%22html_bf066adcfe1847bda794415b888529cd%22%20style%3D%22width%3A%20100.0%25%3B%20height%3A%20100.0%25%3B%22%3E%3Ci%3EMt.%20Hood%20Meadows%3C/i%3E%3C/div%3E%60%29%5B0%5D%3B%0A%20%20%20%20%20%20%20%20%20%20%20%20popup_26848932f7b040e8b3a371f1e19fef93.setContent%28html_bf066adcfe1847bda794415b888529cd%29%3B%0A%20%20%20%20%20%20%20%20%0A%0A%20%20%20%20%20%20%20%20marker_12098c6d452b4d2dbefb594fb6e0e647.bindPopup%28popup_26848932f7b040e8b3a371f1e19fef93%29%0A%20%20%20%20%20%20%20%20%3B%0A%0A%20%20%20%20%20%20%20%20%0A%20%20%20%20%0A%20%20%20%20%0A%20%20%20%20%20%20%20%20%20%20%20%20var%20marker_e89beb94c33e4e75a16fce47fcff4f84%20%3D%20L.marker%28%0A%20%20%20%20%20%20%20%20%20%20%20%20%20%20%20%20%5B48.86461%2C%202.40969%5D%2C%0A%20%20%20%20%20%20%20%20%20%20%20%20%20%20%20%20%7B%7D%0A%20%20%20%20%20%20%20%20%20%20%20%20%29.addTo%28map_05cd164000b94c6a822cc1709c76b6e6%29%3B%0A%20%20%20%20%20%20%20%20%0A%20%20%20%20%0A%20%20%20%20%20%20%20%20var%20popup_a8470aff691240aa8f030837522079fd%20%3D%20L.popup%28%7B%22maxWidth%22%3A%20%22100%25%22%7D%29%3B%0A%0A%20%20%20%20%20%20%20%20%0A%20%20%20%20%20%20%20%20%20%20%20%20var%20html_8c15d0e8f20a42e1a73d0f51028f664f%20%3D%20%24%28%60%3Cdiv%20id%3D%22html_8c15d0e8f20a42e1a73d0f51028f664f%22%20style%3D%22width%3A%20100.0%25%3B%20height%3A%20100.0%25%3B%22%3E%3Ci%3EMt.%20Hood%20Meadows%3C/i%3E%3C/div%3E%60%29%5B0%5D%3B%0A%20%20%20%20%20%20%20%20%20%20%20%20popup_a8470aff691240aa8f030837522079fd.setContent%28html_8c15d0e8f20a42e1a73d0f51028f664f%29%3B%0A%20%20%20%20%20%20%20%20%0A%0A%20%20%20%20%20%20%20%20marker_e89beb94c33e4e75a16fce47fcff4f84.bindPopup%28popup_a8470aff691240aa8f030837522079fd%29%0A%20%20%20%20%20%20%20%20%3B%0A%0A%20%20%20%20%20%20%20%20%0A%20%20%20%20%0A%20%20%20%20%0A%20%20%20%20%20%20%20%20%20%20%20%20var%20marker_2fdf0dcf174d4e68b811edf6ce6e87e0%20%3D%20L.marker%28%0A%20%20%20%20%20%20%20%20%20%20%20%20%20%20%20%20%5B48.84223%2C%202.36811%5D%2C%0A%20%20%20%20%20%20%20%20%20%20%20%20%20%20%20%20%7B%7D%0A%20%20%20%20%20%20%20%20%20%20%20%20%29.addTo%28map_05cd164000b94c6a822cc1709c76b6e6%29%3B%0A%20%20%20%20%20%20%20%20%0A%20%20%20%20%0A%20%20%20%20%20%20%20%20var%20popup_d3bf4fbcadc044ed82e0c81d8734ea77%20%3D%20L.popup%28%7B%22maxWidth%22%3A%20%22100%25%22%7D%29%3B%0A%0A%20%20%20%20%20%20%20%20%0A%20%20%20%20%20%20%20%20%20%20%20%20var%20html_136156feda96423ea0723c67058a09ce%20%3D%20%24%28%60%3Cdiv%20id%3D%22html_136156feda96423ea0723c67058a09ce%22%20style%3D%22width%3A%20100.0%25%3B%20height%3A%20100.0%25%3B%22%3E%3Ci%3EMt.%20Hood%20Meadows%3C/i%3E%3C/div%3E%60%29%5B0%5D%3B%0A%20%20%20%20%20%20%20%20%20%20%20%20popup_d3bf4fbcadc044ed82e0c81d8734ea77.setContent%28html_136156feda96423ea0723c67058a09ce%29%3B%0A%20%20%20%20%20%20%20%20%0A%0A%20%20%20%20%20%20%20%20marker_2fdf0dcf174d4e68b811edf6ce6e87e0.bindPopup%28popup_d3bf4fbcadc044ed82e0c81d8734ea77%29%0A%20%20%20%20%20%20%20%20%3B%0A%0A%20%20%20%20%20%20%20%20%0A%20%20%20%20%0A%20%20%20%20%0A%20%20%20%20%20%20%20%20%20%20%20%20var%20marker_08b2753541094ceeb2733ebc6195d290%20%3D%20L.marker%28%0A%20%20%20%20%20%20%20%20%20%20%20%20%20%20%20%20%5B48.85209%2C%202.28508%5D%2C%0A%20%20%20%20%20%20%20%20%20%20%20%20%20%20%20%20%7B%7D%0A%20%20%20%20%20%20%20%20%20%20%20%20%29.addTo%28map_05cd164000b94c6a822cc1709c76b6e6%29%3B%0A%20%20%20%20%20%20%20%20%0A%20%20%20%20%0A%20%20%20%20%20%20%20%20var%20popup_151239f08e82451e9b668edbf26c620d%20%3D%20L.popup%28%7B%22maxWidth%22%3A%20%22100%25%22%7D%29%3B%0A%0A%20%20%20%20%20%20%20%20%0A%20%20%20%20%20%20%20%20%20%20%20%20var%20html_388d34c06e3642ab80b9a507354138dc%20%3D%20%24%28%60%3Cdiv%20id%3D%22html_388d34c06e3642ab80b9a507354138dc%22%20style%3D%22width%3A%20100.0%25%3B%20height%3A%20100.0%25%3B%22%3E%3Ci%3EMt.%20Hood%20Meadows%3C/i%3E%3C/div%3E%60%29%5B0%5D%3B%0A%20%20%20%20%20%20%20%20%20%20%20%20popup_151239f08e82451e9b668edbf26c620d.setContent%28html_388d34c06e3642ab80b9a507354138dc%29%3B%0A%20%20%20%20%20%20%20%20%0A%0A%20%20%20%20%20%20%20%20marker_08b2753541094ceeb2733ebc6195d290.bindPopup%28popup_151239f08e82451e9b668edbf26c620d%29%0A%20%20%20%20%20%20%20%20%3B%0A%0A%20%20%20%20%20%20%20%20%0A%20%20%20%20%0A%20%20%20%20%0A%20%20%20%20%20%20%20%20%20%20%20%20var%20marker_d5730274c8ea4ab999a163da7fe3c427%20%3D%20L.marker%28%0A%20%20%20%20%20%20%20%20%20%20%20%20%20%20%20%20%5B48.83421%2C%202.26542%5D%2C%0A%20%20%20%20%20%20%20%20%20%20%20%20%20%20%20%20%7B%7D%0A%20%20%20%20%20%20%20%20%20%20%20%20%29.addTo%28map_05cd164000b94c6a822cc1709c76b6e6%29%3B%0A%20%20%20%20%20%20%20%20%0A%20%20%20%20%0A%20%20%20%20%20%20%20%20var%20popup_6ff9424aee82482f89ddf6b061f22bf1%20%3D%20L.popup%28%7B%22maxWidth%22%3A%20%22100%25%22%7D%29%3B%0A%0A%20%20%20%20%20%20%20%20%0A%20%20%20%20%20%20%20%20%20%20%20%20var%20html_6442650624c24d919d6931359e2244cf%20%3D%20%24%28%60%3Cdiv%20id%3D%22html_6442650624c24d919d6931359e2244cf%22%20style%3D%22width%3A%20100.0%25%3B%20height%3A%20100.0%25%3B%22%3E%3Ci%3EMt.%20Hood%20Meadows%3C/i%3E%3C/div%3E%60%29%5B0%5D%3B%0A%20%20%20%20%20%20%20%20%20%20%20%20popup_6ff9424aee82482f89ddf6b061f22bf1.setContent%28html_6442650624c24d919d6931359e2244cf%29%3B%0A%20%20%20%20%20%20%20%20%0A%0A%20%20%20%20%20%20%20%20marker_d5730274c8ea4ab999a163da7fe3c427.bindPopup%28popup_6ff9424aee82482f89ddf6b061f22bf1%29%0A%20%20%20%20%20%20%20%20%3B%0A%0A%20%20%20%20%20%20%20%20%0A%20%20%20%20%0A%20%20%20%20%0A%20%20%20%20%20%20%20%20%20%20%20%20var%20marker_c9b176a7853f46f9be993556e4f9cb3b%20%3D%20L.marker%28%0A%20%20%20%20%20%20%20%20%20%20%20%20%20%20%20%20%5B48.83848%2C%202.37587%5D%2C%0A%20%20%20%20%20%20%20%20%20%20%20%20%20%20%20%20%7B%7D%0A%20%20%20%20%20%20%20%20%20%20%20%20%29.addTo%28map_05cd164000b94c6a822cc1709c76b6e6%29%3B%0A%20%20%20%20%20%20%20%20%0A%20%20%20%20%0A%20%20%20%20%20%20%20%20var%20popup_520e22693206487794df806e6f230e15%20%3D%20L.popup%28%7B%22maxWidth%22%3A%20%22100%25%22%7D%29%3B%0A%0A%20%20%20%20%20%20%20%20%0A%20%20%20%20%20%20%20%20%20%20%20%20var%20html_a2a6090c7525459787d31d680538a886%20%3D%20%24%28%60%3Cdiv%20id%3D%22html_a2a6090c7525459787d31d680538a886%22%20style%3D%22width%3A%20100.0%25%3B%20height%3A%20100.0%25%3B%22%3E%3Ci%3EMt.%20Hood%20Meadows%3C/i%3E%3C/div%3E%60%29%5B0%5D%3B%0A%20%20%20%20%20%20%20%20%20%20%20%20popup_520e22693206487794df806e6f230e15.setContent%28html_a2a6090c7525459787d31d680538a886%29%3B%0A%20%20%20%20%20%20%20%20%0A%0A%20%20%20%20%20%20%20%20marker_c9b176a7853f46f9be993556e4f9cb3b.bindPopup%28popup_520e22693206487794df806e6f230e15%29%0A%20%20%20%20%20%20%20%20%3B%0A%0A%20%20%20%20%20%20%20%20%0A%20%20%20%20%0A%20%20%20%20%0A%20%20%20%20%20%20%20%20%20%20%20%20var%20marker_fa995d298188457c90022e8da6b41232%20%3D%20L.marker%28%0A%20%20%20%20%20%20%20%20%20%20%20%20%20%20%20%20%5B48.86502%2C%202.35387%5D%2C%0A%20%20%20%20%20%20%20%20%20%20%20%20%20%20%20%20%7B%7D%0A%20%20%20%20%20%20%20%20%20%20%20%20%29.addTo%28map_05cd164000b94c6a822cc1709c76b6e6%29%3B%0A%20%20%20%20%20%20%20%20%0A%20%20%20%20%0A%20%20%20%20%20%20%20%20var%20popup_435b74b1084c465b9713ef867a0f29c7%20%3D%20L.popup%28%7B%22maxWidth%22%3A%20%22100%25%22%7D%29%3B%0A%0A%20%20%20%20%20%20%20%20%0A%20%20%20%20%20%20%20%20%20%20%20%20var%20html_460de822496348a59d7d0ccaa92b6c5e%20%3D%20%24%28%60%3Cdiv%20id%3D%22html_460de822496348a59d7d0ccaa92b6c5e%22%20style%3D%22width%3A%20100.0%25%3B%20height%3A%20100.0%25%3B%22%3E%3Ci%3EMt.%20Hood%20Meadows%3C/i%3E%3C/div%3E%60%29%5B0%5D%3B%0A%20%20%20%20%20%20%20%20%20%20%20%20popup_435b74b1084c465b9713ef867a0f29c7.setContent%28html_460de822496348a59d7d0ccaa92b6c5e%29%3B%0A%20%20%20%20%20%20%20%20%0A%0A%20%20%20%20%20%20%20%20marker_fa995d298188457c90022e8da6b41232.bindPopup%28popup_435b74b1084c465b9713ef867a0f29c7%29%0A%20%20%20%20%20%20%20%20%3B%0A%0A%20%20%20%20%20%20%20%20%0A%20%20%20%20%0A%20%20%20%20%0A%20%20%20%20%20%20%20%20%20%20%20%20var%20marker_396ba107aaec40e8a005eba306d1d7a5%20%3D%20L.marker%28%0A%20%20%20%20%20%20%20%20%20%20%20%20%20%20%20%20%5B48.86288%2C%202.31179%5D%2C%0A%20%20%20%20%20%20%20%20%20%20%20%20%20%20%20%20%7B%7D%0A%20%20%20%20%20%20%20%20%20%20%20%20%29.addTo%28map_05cd164000b94c6a822cc1709c76b6e6%29%3B%0A%20%20%20%20%20%20%20%20%0A%20%20%20%20%0A%20%20%20%20%20%20%20%20var%20popup_4d98c4cd7f1549e18e58618f92b1181c%20%3D%20L.popup%28%7B%22maxWidth%22%3A%20%22100%25%22%7D%29%3B%0A%0A%20%20%20%20%20%20%20%20%0A%20%20%20%20%20%20%20%20%20%20%20%20var%20html_5c185906a0f6472eb4969757d558b419%20%3D%20%24%28%60%3Cdiv%20id%3D%22html_5c185906a0f6472eb4969757d558b419%22%20style%3D%22width%3A%20100.0%25%3B%20height%3A%20100.0%25%3B%22%3E%3Ci%3EMt.%20Hood%20Meadows%3C/i%3E%3C/div%3E%60%29%5B0%5D%3B%0A%20%20%20%20%20%20%20%20%20%20%20%20popup_4d98c4cd7f1549e18e58618f92b1181c.setContent%28html_5c185906a0f6472eb4969757d558b419%29%3B%0A%20%20%20%20%20%20%20%20%0A%0A%20%20%20%20%20%20%20%20marker_396ba107aaec40e8a005eba306d1d7a5.bindPopup%28popup_4d98c4cd7f1549e18e58618f92b1181c%29%0A%20%20%20%20%20%20%20%20%3B%0A%0A%20%20%20%20%20%20%20%20%0A%20%20%20%20%0A%20%20%20%20%0A%20%20%20%20%20%20%20%20%20%20%20%20var%20marker_e022f4f03a78493cb08fd990c09212da%20%3D%20L.marker%28%0A%20%20%20%20%20%20%20%20%20%20%20%20%20%20%20%20%5B48.85013%2C%202.35423%5D%2C%0A%20%20%20%20%20%20%20%20%20%20%20%20%20%20%20%20%7B%7D%0A%20%20%20%20%20%20%20%20%20%20%20%20%29.addTo%28map_05cd164000b94c6a822cc1709c76b6e6%29%3B%0A%20%20%20%20%20%20%20%20%0A%20%20%20%20%0A%20%20%20%20%20%20%20%20var%20popup_0e7164b7531a4844bb18a9e63b9e9fdf%20%3D%20L.popup%28%7B%22maxWidth%22%3A%20%22100%25%22%7D%29%3B%0A%0A%20%20%20%20%20%20%20%20%0A%20%20%20%20%20%20%20%20%20%20%20%20var%20html_d413ba74874746be87076543ce9da1c1%20%3D%20%24%28%60%3Cdiv%20id%3D%22html_d413ba74874746be87076543ce9da1c1%22%20style%3D%22width%3A%20100.0%25%3B%20height%3A%20100.0%25%3B%22%3E%3Ci%3EMt.%20Hood%20Meadows%3C/i%3E%3C/div%3E%60%29%5B0%5D%3B%0A%20%20%20%20%20%20%20%20%20%20%20%20popup_0e7164b7531a4844bb18a9e63b9e9fdf.setContent%28html_d413ba74874746be87076543ce9da1c1%29%3B%0A%20%20%20%20%20%20%20%20%0A%0A%20%20%20%20%20%20%20%20marker_e022f4f03a78493cb08fd990c09212da.bindPopup%28popup_0e7164b7531a4844bb18a9e63b9e9fdf%29%0A%20%20%20%20%20%20%20%20%3B%0A%0A%20%20%20%20%20%20%20%20%0A%20%20%20%20%0A%20%20%20%20%0A%20%20%20%20%20%20%20%20%20%20%20%20var%20marker_2e75037bc28c499caf8fb7d023d93352%20%3D%20L.marker%28%0A%20%20%20%20%20%20%20%20%20%20%20%20%20%20%20%20%5B48.84201%2C%202.36729%5D%2C%0A%20%20%20%20%20%20%20%20%20%20%20%20%20%20%20%20%7B%7D%0A%20%20%20%20%20%20%20%20%20%20%20%20%29.addTo%28map_05cd164000b94c6a822cc1709c76b6e6%29%3B%0A%20%20%20%20%20%20%20%20%0A%20%20%20%20%0A%20%20%20%20%20%20%20%20var%20popup_020843abc11141b69bcd89b40f482bd4%20%3D%20L.popup%28%7B%22maxWidth%22%3A%20%22100%25%22%7D%29%3B%0A%0A%20%20%20%20%20%20%20%20%0A%20%20%20%20%20%20%20%20%20%20%20%20var%20html_2e95cea9a31b471c897a5d1638951a9d%20%3D%20%24%28%60%3Cdiv%20id%3D%22html_2e95cea9a31b471c897a5d1638951a9d%22%20style%3D%22width%3A%20100.0%25%3B%20height%3A%20100.0%25%3B%22%3E%3Ci%3EMt.%20Hood%20Meadows%3C/i%3E%3C/div%3E%60%29%5B0%5D%3B%0A%20%20%20%20%20%20%20%20%20%20%20%20popup_020843abc11141b69bcd89b40f482bd4.setContent%28html_2e95cea9a31b471c897a5d1638951a9d%29%3B%0A%20%20%20%20%20%20%20%20%0A%0A%20%20%20%20%20%20%20%20marker_2e75037bc28c499caf8fb7d023d93352.bindPopup%28popup_020843abc11141b69bcd89b40f482bd4%29%0A%20%20%20%20%20%20%20%20%3B%0A%0A%20%20%20%20%20%20%20%20%0A%20%20%20%20%0A%20%20%20%20%0A%20%20%20%20%20%20%20%20%20%20%20%20var%20marker_86d8c7921266471cbea1e0b0d894f181%20%3D%20L.marker%28%0A%20%20%20%20%20%20%20%20%20%20%20%20%20%20%20%20%5B48.86462%2C%202.31444%5D%2C%0A%20%20%20%20%20%20%20%20%20%20%20%20%20%20%20%20%7B%7D%0A%20%20%20%20%20%20%20%20%20%20%20%20%29.addTo%28map_05cd164000b94c6a822cc1709c76b6e6%29%3B%0A%20%20%20%20%20%20%20%20%0A%20%20%20%20%0A%20%20%20%20%20%20%20%20var%20popup_c3796c4d72194a72907b4ea6d758d10b%20%3D%20L.popup%28%7B%22maxWidth%22%3A%20%22100%25%22%7D%29%3B%0A%0A%20%20%20%20%20%20%20%20%0A%20%20%20%20%20%20%20%20%20%20%20%20var%20html_ce49a77aee1649e1bc8c3b9453d37bb4%20%3D%20%24%28%60%3Cdiv%20id%3D%22html_ce49a77aee1649e1bc8c3b9453d37bb4%22%20style%3D%22width%3A%20100.0%25%3B%20height%3A%20100.0%25%3B%22%3E%3Ci%3EMt.%20Hood%20Meadows%3C/i%3E%3C/div%3E%60%29%5B0%5D%3B%0A%20%20%20%20%20%20%20%20%20%20%20%20popup_c3796c4d72194a72907b4ea6d758d10b.setContent%28html_ce49a77aee1649e1bc8c3b9453d37bb4%29%3B%0A%20%20%20%20%20%20%20%20%0A%0A%20%20%20%20%20%20%20%20marker_86d8c7921266471cbea1e0b0d894f181.bindPopup%28popup_c3796c4d72194a72907b4ea6d758d10b%29%0A%20%20%20%20%20%20%20%20%3B%0A%0A%20%20%20%20%20%20%20%20%0A%20%20%20%20%0A%20%20%20%20%0A%20%20%20%20%20%20%20%20%20%20%20%20var%20marker_54591a8072ea45c7870836f3e722f071%20%3D%20L.marker%28%0A%20%20%20%20%20%20%20%20%20%20%20%20%20%20%20%20%5B48.86377%2C%202.35096%5D%2C%0A%20%20%20%20%20%20%20%20%20%20%20%20%20%20%20%20%7B%7D%0A%20%20%20%20%20%20%20%20%20%20%20%20%29.addTo%28map_05cd164000b94c6a822cc1709c76b6e6%29%3B%0A%20%20%20%20%20%20%20%20%0A%20%20%20%20%0A%20%20%20%20%20%20%20%20var%20popup_d4454e3211274c53a7da52ae17e64c7c%20%3D%20L.popup%28%7B%22maxWidth%22%3A%20%22100%25%22%7D%29%3B%0A%0A%20%20%20%20%20%20%20%20%0A%20%20%20%20%20%20%20%20%20%20%20%20var%20html_80e5ff699b6246699d5755ee11037ff8%20%3D%20%24%28%60%3Cdiv%20id%3D%22html_80e5ff699b6246699d5755ee11037ff8%22%20style%3D%22width%3A%20100.0%25%3B%20height%3A%20100.0%25%3B%22%3E%3Ci%3EMt.%20Hood%20Meadows%3C/i%3E%3C/div%3E%60%29%5B0%5D%3B%0A%20%20%20%20%20%20%20%20%20%20%20%20popup_d4454e3211274c53a7da52ae17e64c7c.setContent%28html_80e5ff699b6246699d5755ee11037ff8%29%3B%0A%20%20%20%20%20%20%20%20%0A%0A%20%20%20%20%20%20%20%20marker_54591a8072ea45c7870836f3e722f071.bindPopup%28popup_d4454e3211274c53a7da52ae17e64c7c%29%0A%20%20%20%20%20%20%20%20%3B%0A%0A%20%20%20%20%20%20%20%20%0A%20%20%20%20%0A%20%20%20%20%0A%20%20%20%20%20%20%20%20%20%20%20%20var%20marker_5ba20367d5dd46169a17d0cb01a1a497%20%3D%20L.marker%28%0A%20%20%20%20%20%20%20%20%20%20%20%20%20%20%20%20%5B48.84638%2C%202.31529%5D%2C%0A%20%20%20%20%20%20%20%20%20%20%20%20%20%20%20%20%7B%7D%0A%20%20%20%20%20%20%20%20%20%20%20%20%29.addTo%28map_05cd164000b94c6a822cc1709c76b6e6%29%3B%0A%20%20%20%20%20%20%20%20%0A%20%20%20%20%0A%20%20%20%20%20%20%20%20var%20popup_a87daa77fc99470ca2fb638a07c85ffd%20%3D%20L.popup%28%7B%22maxWidth%22%3A%20%22100%25%22%7D%29%3B%0A%0A%20%20%20%20%20%20%20%20%0A%20%20%20%20%20%20%20%20%20%20%20%20var%20html_b33369d8b1b241b2a6477efca500487a%20%3D%20%24%28%60%3Cdiv%20id%3D%22html_b33369d8b1b241b2a6477efca500487a%22%20style%3D%22width%3A%20100.0%25%3B%20height%3A%20100.0%25%3B%22%3E%3Ci%3EMt.%20Hood%20Meadows%3C/i%3E%3C/div%3E%60%29%5B0%5D%3B%0A%20%20%20%20%20%20%20%20%20%20%20%20popup_a87daa77fc99470ca2fb638a07c85ffd.setContent%28html_b33369d8b1b241b2a6477efca500487a%29%3B%0A%20%20%20%20%20%20%20%20%0A%0A%20%20%20%20%20%20%20%20marker_5ba20367d5dd46169a17d0cb01a1a497.bindPopup%28popup_a87daa77fc99470ca2fb638a07c85ffd%29%0A%20%20%20%20%20%20%20%20%3B%0A%0A%20%20%20%20%20%20%20%20%0A%20%20%20%20%0A%20%20%20%20%0A%20%20%20%20%20%20%20%20%20%20%20%20var%20marker_bb02cd00ab204a959847ec196697db92%20%3D%20L.marker%28%0A%20%20%20%20%20%20%20%20%20%20%20%20%20%20%20%20%5B48.88529%2C%202.32666%5D%2C%0A%20%20%20%20%20%20%20%20%20%20%20%20%20%20%20%20%7B%7D%0A%20%20%20%20%20%20%20%20%20%20%20%20%29.addTo%28map_05cd164000b94c6a822cc1709c76b6e6%29%3B%0A%20%20%20%20%20%20%20%20%0A%20%20%20%20%0A%20%20%20%20%20%20%20%20var%20popup_31fab5ddbdbd414cbf8f4c5db09a6098%20%3D%20L.popup%28%7B%22maxWidth%22%3A%20%22100%25%22%7D%29%3B%0A%0A%20%20%20%20%20%20%20%20%0A%20%20%20%20%20%20%20%20%20%20%20%20var%20html_529c6f89a56e4b1ab29e411d02b06643%20%3D%20%24%28%60%3Cdiv%20id%3D%22html_529c6f89a56e4b1ab29e411d02b06643%22%20style%3D%22width%3A%20100.0%25%3B%20height%3A%20100.0%25%3B%22%3E%3Ci%3EMt.%20Hood%20Meadows%3C/i%3E%3C/div%3E%60%29%5B0%5D%3B%0A%20%20%20%20%20%20%20%20%20%20%20%20popup_31fab5ddbdbd414cbf8f4c5db09a6098.setContent%28html_529c6f89a56e4b1ab29e411d02b06643%29%3B%0A%20%20%20%20%20%20%20%20%0A%0A%20%20%20%20%20%20%20%20marker_bb02cd00ab204a959847ec196697db92.bindPopup%28popup_31fab5ddbdbd414cbf8f4c5db09a6098%29%0A%20%20%20%20%20%20%20%20%3B%0A%0A%20%20%20%20%20%20%20%20%0A%20%20%20%20%0A%20%20%20%20%0A%20%20%20%20%20%20%20%20%20%20%20%20var%20marker_7c2cc3b31f164c428040ea4ed4bce747%20%3D%20L.marker%28%0A%20%20%20%20%20%20%20%20%20%20%20%20%20%20%20%20%5B48.83977%2C%202.30198%5D%2C%0A%20%20%20%20%20%20%20%20%20%20%20%20%20%20%20%20%7B%7D%0A%20%20%20%20%20%20%20%20%20%20%20%20%29.addTo%28map_05cd164000b94c6a822cc1709c76b6e6%29%3B%0A%20%20%20%20%20%20%20%20%0A%20%20%20%20%0A%20%20%20%20%20%20%20%20var%20popup_32922a3255c64b09baea1fc4319f8f47%20%3D%20L.popup%28%7B%22maxWidth%22%3A%20%22100%25%22%7D%29%3B%0A%0A%20%20%20%20%20%20%20%20%0A%20%20%20%20%20%20%20%20%20%20%20%20var%20html_2ea7c5d9deea4b4cb49a2f8c354e97bb%20%3D%20%24%28%60%3Cdiv%20id%3D%22html_2ea7c5d9deea4b4cb49a2f8c354e97bb%22%20style%3D%22width%3A%20100.0%25%3B%20height%3A%20100.0%25%3B%22%3E%3Ci%3EMt.%20Hood%20Meadows%3C/i%3E%3C/div%3E%60%29%5B0%5D%3B%0A%20%20%20%20%20%20%20%20%20%20%20%20popup_32922a3255c64b09baea1fc4319f8f47.setContent%28html_2ea7c5d9deea4b4cb49a2f8c354e97bb%29%3B%0A%20%20%20%20%20%20%20%20%0A%0A%20%20%20%20%20%20%20%20marker_7c2cc3b31f164c428040ea4ed4bce747.bindPopup%28popup_32922a3255c64b09baea1fc4319f8f47%29%0A%20%20%20%20%20%20%20%20%3B%0A%0A%20%20%20%20%20%20%20%20%0A%20%20%20%20%0A%3C/script%3E onload=\"this.contentDocument.open();this.contentDocument.write(    decodeURIComponent(this.getAttribute('data-html')));this.contentDocument.close();\" allowfullscreen webkitallowfullscreen mozallowfullscreen></iframe></div></div>"
      ],
      "text/plain": [
       "<folium.folium.Map at 0x7f48fde39400>"
      ]
     },
     "execution_count": 7,
     "metadata": {},
     "output_type": "execute_result"
    }
   ],
   "source": [
    "import folium\n",
    "\n",
    "m = folium.Map(location=data[['latitude', 'longitude']].mean(axis=0), zoom_start=13)\n",
    "\n",
    "for _, row in data[['latitude', 'longitude']].drop_duplicates().iterrows():\n",
    "    folium.Marker(\n",
    "    row.values.tolist(), popup=\"<i>Mt. Hood Meadows</i>\"\n",
    "    ).add_to(m)\n",
    "\n",
    "m"
   ]
  },
  {
   "cell_type": "markdown",
   "id": "83a58f27-b2c3-4eee-8991-b206471eb723",
   "metadata": {},
   "source": [
    "Note that in this RAMP problem we consider only the 30 most frequented counting sites.\n",
    "\n",
    "\n",
    "Next we will look into the temporal distribution of the most frequented bike counter. If we plot it directly we will not see much because there are half a million data points,"
   ]
  },
  {
   "cell_type": "code",
   "execution_count": 8,
   "id": "8fe0c1a0-e661-4dd9-bf14-be1ac5a1a34c",
   "metadata": {},
   "outputs": [
    {
     "data": {
      "text/plain": [
       "<AxesSubplot:xlabel='date'>"
      ]
     },
     "execution_count": 8,
     "metadata": {},
     "output_type": "execute_result"
    },
    {
     "data": {
      "image/png": "[encoded data removed]",
      "text/plain": [
       "<Figure size 432x288 with 1 Axes>"
      ]
     },
     "metadata": {
      "needs_background": "light"
     },
     "output_type": "display_data"
    }
   ],
   "source": [
    "mask = data['counter_name'] == 'Totem 73 boulevard de Sébastopol S-N'\n",
    "\n",
    "data[mask].plot(x='date', y='bike_count')"
   ]
  },
  {
   "cell_type": "markdown",
   "id": "6782d258-580c-4db4-9b96-fa1e16d89b2f",
   "metadata": {},
   "source": [
    "Instead we aggregate the data by week, for instance, to have a clearer picture,"
   ]
  },
  {
   "cell_type": "code",
   "execution_count": 9,
   "id": "349fbd40-c57e-40cc-bd99-608d9e2e89ed",
   "metadata": {},
   "outputs": [
    {
     "data": {
      "text/plain": [
       "<AxesSubplot:xlabel='date'>"
      ]
     },
     "execution_count": 9,
     "metadata": {},
     "output_type": "execute_result"
    },
    {
     "data": {
      "image/png": "[encoded data removed]",
      "text/plain": [
       "<Figure size 432x288 with 1 Axes>"
      ]
     },
     "metadata": {
      "needs_background": "light"
     },
     "output_type": "display_data"
    }
   ],
   "source": [
    "mask = data['counter_name'] == 'Totem 73 boulevard de Sébastopol S-N'\n",
    "\n",
    "data[mask].groupby(pd.Grouper(freq='1w', key='date'))[['bike_count']].sum().plot()"
   ]
  },
  {
   "cell_type": "markdown",
   "id": "c262f5c5-3a54-4017-a99b-fed24eee385f",
   "metadata": {},
   "source": [
    "While at the same time, we can zoom on a week in particular"
   ]
  },
  {
   "cell_type": "code",
   "execution_count": 10,
   "id": "6f8b5840-53ba-43ca-8966-f594975696c9",
   "metadata": {},
   "outputs": [
    {
     "data": {
      "text/plain": [
       "<AxesSubplot:xlabel='date'>"
      ]
     },
     "execution_count": 10,
     "metadata": {},
     "output_type": "execute_result"
    },
    {
     "data": {
      "image/png": "[encoded data removed]",
      "text/plain": [
       "<Figure size 720x288 with 1 Axes>"
      ]
     },
     "metadata": {
      "needs_background": "light"
     },
     "output_type": "display_data"
    }
   ],
   "source": [
    "\n",
    "fig, ax = plt.subplots(figsize=(10, 4))\n",
    "\n",
    "mask = ((data['counter_name'] == 'Totem 73 boulevard de Sébastopol S-N')\n",
    "        & (data['date'] > pd.to_datetime('2021/03/01'))\n",
    "        & (data['date'] < pd.to_datetime('2021/03/08')))\n",
    "\n",
    "data[mask].plot(x='date', y='bike_count', ax=ax)"
   ]
  },
  {
   "cell_type": "markdown",
   "id": "ca56052b-51f7-4c67-b135-2cc14698448f",
   "metadata": {},
   "source": [
    "Where the hourly pattern has a clear variation between work days and weekends.\n",
    "\n",
    "If we look at the distribution of the target variable it is non normal, "
   ]
  },
  {
   "cell_type": "code",
   "execution_count": 11,
   "id": "99893b87-cc1c-4c3e-b0cc-2069eb0e6874",
   "metadata": {},
   "outputs": [
    {
     "data": {
      "image/png": "[encoded data removed]",
      "text/plain": [
       "<Figure size 432x288 with 1 Axes>"
      ]
     },
     "metadata": {
      "needs_background": "light"
     },
     "output_type": "display_data"
    }
   ],
   "source": [
    "import seaborn as sns\n",
    "\n",
    "\n",
    "ax = sns.histplot(data, x='bike_count', kde=True, bins=50)"
   ]
  },
  {
   "cell_type": "markdown",
   "id": "5e0055ae-ea52-4198-bc31-5089e73aaf9e",
   "metadata": {},
   "source": [
    "and least square loss would not be appropriate to model it. One way to precede would be to transform the variable with logarithmic transformation,\n",
    "```py\n",
    "data['log_bike_count'] = np.log(1 + data['bike_count'])\n",
    "```"
   ]
  },
  {
   "cell_type": "code",
   "execution_count": 12,
   "id": "6414fb09-93e7-431a-ac04-237ca8ccea2e",
   "metadata": {},
   "outputs": [
    {
     "data": {
      "image/png": "[encoded data removed]",
      "text/plain": [
       "<Figure size 432x288 with 1 Axes>"
      ]
     },
     "metadata": {
      "needs_background": "light"
     },
     "output_type": "display_data"
    }
   ],
   "source": [
    "ax = sns.histplot(data, x='log_bike_count', kde=True, bins=50)"
   ]
  },
  {
   "cell_type": "markdown",
   "id": "a7ce873c-aa3d-40a8-9f07-ef1692df281d",
   "metadata": {},
   "source": [
    "which has a more pronounced central mode, but is still non symmetric. In the following, **we use `log_bike_count` as the target variable** since otherwise `bike_count` ranges over 3 orders of magnitude and least square loss would be dominated by the few large values. "
   ]
  },
  {
   "cell_type": "markdown",
   "id": "c51fc59f-e77f-4c82-bfe8-35a93ef2db09",
   "metadata": {},
   "source": [
    "## Feature extraction\n",
    "\n",
    "To account for the temporal aspects of the data, we cannot input the `date` field directly into the model. Instead we will extract the relevant features from the `date` field, "
   ]
  },
  {
   "cell_type": "code",
   "execution_count": 30,
   "id": "d13d9bfd-7852-4206-b16f-e09e7c83d6d0",
   "metadata": {},
   "outputs": [],
   "source": [
    "def _encode_dates(X):\n",
    "    X = X.copy()  # modify a copy of X\n",
    "    # Encode the date information from the DateOfDeparture columns\n",
    "    X.loc[:, 'year'] = X['date'].dt.year\n",
    "    X.loc[:, 'month'] = X['date'].dt.month\n",
    "    X.loc[:, 'day'] = X['date'].dt.day\n",
    "    X.loc[:, 'weekday'] = X['date'].dt.weekday\n",
    "    X.loc[:, 'hour'] = X['date'].dt.hour\n",
    "\n",
    "    # Finally we can drop the original columns from the dataframe\n",
    "    return X.drop(columns=[\"date\"]) "
   ]
  },
  {
   "cell_type": "code",
   "execution_count": 31,
   "id": "df5a9c16-69fb-4d05-aa77-5ef1bc28fe78",
   "metadata": {},
   "outputs": [
    {
     "data": {
      "text/plain": [
       "48321   2020-09-01 02:00:00\n",
       "48324   2020-09-01 03:00:00\n",
       "48327   2020-09-01 04:00:00\n",
       "48330   2020-09-01 15:00:00\n",
       "48333   2020-09-01 18:00:00\n",
       "Name: date, dtype: datetime64[ns]"
      ]
     },
     "execution_count": 31,
     "metadata": {},
     "output_type": "execute_result"
    }
   ],
   "source": [
    "data['date'].head()"
   ]
  },
  {
   "cell_type": "code",
   "execution_count": 32,
   "id": "8dd6cfea-6fc8-4707-a0c9-404b62a7833d",
   "metadata": {},
   "outputs": [
    {
     "data": {
      "text/html": [
       "<div>\n",
       "<style scoped>\n",
       "    .dataframe tbody tr th:only-of-type {\n",
       "        vertical-align: middle;\n",
       "    }\n",
       "\n",
       "    .dataframe tbody tr th {\n",
       "        vertical-align: top;\n",
       "    }\n",
       "\n",
       "    .dataframe thead th {\n",
       "        text-align: right;\n",
       "    }\n",
       "</style>\n",
       "<table border=\"1\" class=\"dataframe\">\n",
       "  <thead>\n",
       "    <tr style=\"text-align: right;\">\n",
       "      <th></th>\n",
       "      <th>year</th>\n",
       "      <th>month</th>\n",
       "      <th>day</th>\n",
       "      <th>weekday</th>\n",
       "      <th>hour</th>\n",
       "    </tr>\n",
       "  </thead>\n",
       "  <tbody>\n",
       "    <tr>\n",
       "      <th>48321</th>\n",
       "      <td>2020</td>\n",
       "      <td>9</td>\n",
       "      <td>1</td>\n",
       "      <td>1</td>\n",
       "      <td>2</td>\n",
       "    </tr>\n",
       "    <tr>\n",
       "      <th>48324</th>\n",
       "      <td>2020</td>\n",
       "      <td>9</td>\n",
       "      <td>1</td>\n",
       "      <td>1</td>\n",
       "      <td>3</td>\n",
       "    </tr>\n",
       "    <tr>\n",
       "      <th>48327</th>\n",
       "      <td>2020</td>\n",
       "      <td>9</td>\n",
       "      <td>1</td>\n",
       "      <td>1</td>\n",
       "      <td>4</td>\n",
       "    </tr>\n",
       "    <tr>\n",
       "      <th>48330</th>\n",
       "      <td>2020</td>\n",
       "      <td>9</td>\n",
       "      <td>1</td>\n",
       "      <td>1</td>\n",
       "      <td>15</td>\n",
       "    </tr>\n",
       "    <tr>\n",
       "      <th>48333</th>\n",
       "      <td>2020</td>\n",
       "      <td>9</td>\n",
       "      <td>1</td>\n",
       "      <td>1</td>\n",
       "      <td>18</td>\n",
       "    </tr>\n",
       "  </tbody>\n",
       "</table>\n",
       "</div>"
      ],
      "text/plain": [
       "       year  month  day  weekday  hour\n",
       "48321  2020      9    1        1     2\n",
       "48324  2020      9    1        1     3\n",
       "48327  2020      9    1        1     4\n",
       "48330  2020      9    1        1    15\n",
       "48333  2020      9    1        1    18"
      ]
     },
     "execution_count": 32,
     "metadata": {},
     "output_type": "execute_result"
    }
   ],
   "source": [
    "_encode_dates(data[['date']].head())"
   ]
  },
  {
   "cell_type": "markdown",
   "id": "a4eb15a9-421b-4f2a-a913-26df51449092",
   "metadata": {},
   "source": [
    "To use this function with scikit-learn estimators we use the [FunctionTransformer](https://scikit-learn.org/stable/modules/generated/sklearn.preprocessing.FunctionTransformer.html),"
   ]
  },
  {
   "cell_type": "code",
   "execution_count": 33,
   "id": "c4676f76-1bdb-4fdd-94b3-061a9a7c691e",
   "metadata": {},
   "outputs": [
    {
     "data": {
      "text/html": [
       "<div>\n",
       "<style scoped>\n",
       "    .dataframe tbody tr th:only-of-type {\n",
       "        vertical-align: middle;\n",
       "    }\n",
       "\n",
       "    .dataframe tbody tr th {\n",
       "        vertical-align: top;\n",
       "    }\n",
       "\n",
       "    .dataframe thead th {\n",
       "        text-align: right;\n",
       "    }\n",
       "</style>\n",
       "<table border=\"1\" class=\"dataframe\">\n",
       "  <thead>\n",
       "    <tr style=\"text-align: right;\">\n",
       "      <th></th>\n",
       "      <th>year</th>\n",
       "      <th>month</th>\n",
       "      <th>day</th>\n",
       "      <th>weekday</th>\n",
       "      <th>hour</th>\n",
       "    </tr>\n",
       "  </thead>\n",
       "  <tbody>\n",
       "    <tr>\n",
       "      <th>48321</th>\n",
       "      <td>2020</td>\n",
       "      <td>9</td>\n",
       "      <td>1</td>\n",
       "      <td>1</td>\n",
       "      <td>2</td>\n",
       "    </tr>\n",
       "    <tr>\n",
       "      <th>48324</th>\n",
       "      <td>2020</td>\n",
       "      <td>9</td>\n",
       "      <td>1</td>\n",
       "      <td>1</td>\n",
       "      <td>3</td>\n",
       "    </tr>\n",
       "    <tr>\n",
       "      <th>48327</th>\n",
       "      <td>2020</td>\n",
       "      <td>9</td>\n",
       "      <td>1</td>\n",
       "      <td>1</td>\n",
       "      <td>4</td>\n",
       "    </tr>\n",
       "    <tr>\n",
       "      <th>48330</th>\n",
       "      <td>2020</td>\n",
       "      <td>9</td>\n",
       "      <td>1</td>\n",
       "      <td>1</td>\n",
       "      <td>15</td>\n",
       "    </tr>\n",
       "    <tr>\n",
       "      <th>48333</th>\n",
       "      <td>2020</td>\n",
       "      <td>9</td>\n",
       "      <td>1</td>\n",
       "      <td>1</td>\n",
       "      <td>18</td>\n",
       "    </tr>\n",
       "  </tbody>\n",
       "</table>\n",
       "</div>"
      ],
      "text/plain": [
       "       year  month  day  weekday  hour\n",
       "48321  2020      9    1        1     2\n",
       "48324  2020      9    1        1     3\n",
       "48327  2020      9    1        1     4\n",
       "48330  2020      9    1        1    15\n",
       "48333  2020      9    1        1    18"
      ]
     },
     "execution_count": 33,
     "metadata": {},
     "output_type": "execute_result"
    }
   ],
   "source": [
    "from sklearn.preprocessing import FunctionTransformer\n",
    "\n",
    "date_encoder = FunctionTransformer(_encode_dates, validate=False)\n",
    "date_encoder.fit_transform(data[['date']]).head()"
   ]
  },
  {
   "cell_type": "markdown",
   "id": "c6c85678-2403-4a31-90ae-ac68f9565859",
   "metadata": {},
   "source": [
    "Since it is unlikely that, for instance, `hour` is linearly correlated with the target variable, we would need to additionally encode categorical features for linear models with [OneHotEncoder](https://scikit-learn.org/stable/modules/generated/sklearn.preprocessing.OneHotEncoder.html)"
   ]
  },
  {
   "cell_type": "code",
   "execution_count": 34,
   "id": "46e5f3cd-e177-4b73-8058-1472a46bb34b",
   "metadata": {},
   "outputs": [
    {
     "data": {
      "text/plain": [
       "array([[1., 0., 0., 0., 0.],\n",
       "       [0., 1., 0., 0., 0.],\n",
       "       [0., 0., 1., 0., 0.],\n",
       "       [0., 0., 0., 1., 0.],\n",
       "       [0., 0., 0., 0., 1.]])"
      ]
     },
     "execution_count": 34,
     "metadata": {},
     "output_type": "execute_result"
    }
   ],
   "source": [
    "from sklearn.preprocessing import OneHotEncoder\n",
    "\n",
    "enc = OneHotEncoder(sparse=False)\n",
    "\n",
    "enc.fit_transform(_encode_dates(data[['date']])[['hour']].head())"
   ]
  },
  {
   "cell_type": "markdown",
   "id": "c5feb47c-c05f-442b-8009-4b7272bdf84f",
   "metadata": {},
   "source": [
    "## Linear model"
   ]
  },
  {
   "cell_type": "markdown",
   "id": "e8fb001e-3446-492c-b887-6ed485448495",
   "metadata": {},
   "source": [
    "Let's now construct our first linear model with [Ridge](https://scikit-learn.org/stable/modules/generated/sklearn.linear_model.Ridge.html). We use a few helper functions defined in `problem.py` of the starting kit to load the public train and test data:"
   ]
  },
  {
   "cell_type": "code",
   "execution_count": 35,
   "id": "809fa5fa-099f-4b98-b47c-98f4e11ea0f7",
   "metadata": {},
   "outputs": [],
   "source": [
    "import problem\n",
    "\n",
    "X_train, y_train = problem.get_train_data()\n",
    "X_test, y_test = problem.get_test_data()"
   ]
  },
  {
   "cell_type": "code",
   "execution_count": 36,
   "id": "6e579d41-9f7a-4b50-b07d-31866168a67e",
   "metadata": {},
   "outputs": [
    {
     "data": {
      "text/html": [
       "<div>\n",
       "<style scoped>\n",
       "    .dataframe tbody tr th:only-of-type {\n",
       "        vertical-align: middle;\n",
       "    }\n",
       "\n",
       "    .dataframe tbody tr th {\n",
       "        vertical-align: top;\n",
       "    }\n",
       "\n",
       "    .dataframe thead th {\n",
       "        text-align: right;\n",
       "    }\n",
       "</style>\n",
       "<table border=\"1\" class=\"dataframe\">\n",
       "  <thead>\n",
       "    <tr style=\"text-align: right;\">\n",
       "      <th></th>\n",
       "      <th>counter_id</th>\n",
       "      <th>counter_name</th>\n",
       "      <th>site_id</th>\n",
       "      <th>site_name</th>\n",
       "      <th>date</th>\n",
       "      <th>counter_installation_date</th>\n",
       "      <th>coordinates</th>\n",
       "      <th>counter_technical_id</th>\n",
       "      <th>latitude</th>\n",
       "      <th>longitude</th>\n",
       "    </tr>\n",
       "  </thead>\n",
       "  <tbody>\n",
       "    <tr>\n",
       "      <th>48321</th>\n",
       "      <td>100007049-102007049</td>\n",
       "      <td>28 boulevard Diderot E-O</td>\n",
       "      <td>100007049</td>\n",
       "      <td>28 boulevard Diderot</td>\n",
       "      <td>2020-09-01 02:00:00</td>\n",
       "      <td>2013-01-18</td>\n",
       "      <td>48.846028,2.375429</td>\n",
       "      <td>Y2H15027244</td>\n",
       "      <td>48.846028</td>\n",
       "      <td>2.375429</td>\n",
       "    </tr>\n",
       "    <tr>\n",
       "      <th>48324</th>\n",
       "      <td>100007049-102007049</td>\n",
       "      <td>28 boulevard Diderot E-O</td>\n",
       "      <td>100007049</td>\n",
       "      <td>28 boulevard Diderot</td>\n",
       "      <td>2020-09-01 03:00:00</td>\n",
       "      <td>2013-01-18</td>\n",
       "      <td>48.846028,2.375429</td>\n",
       "      <td>Y2H15027244</td>\n",
       "      <td>48.846028</td>\n",
       "      <td>2.375429</td>\n",
       "    </tr>\n",
       "  </tbody>\n",
       "</table>\n",
       "</div>"
      ],
      "text/plain": [
       "                counter_id              counter_name    site_id  \\\n",
       "48321  100007049-102007049  28 boulevard Diderot E-O  100007049   \n",
       "48324  100007049-102007049  28 boulevard Diderot E-O  100007049   \n",
       "\n",
       "                  site_name                date counter_installation_date  \\\n",
       "48321  28 boulevard Diderot 2020-09-01 02:00:00                2013-01-18   \n",
       "48324  28 boulevard Diderot 2020-09-01 03:00:00                2013-01-18   \n",
       "\n",
       "              coordinates counter_technical_id   latitude  longitude  \n",
       "48321  48.846028,2.375429          Y2H15027244  48.846028   2.375429  \n",
       "48324  48.846028,2.375429          Y2H15027244  48.846028   2.375429  "
      ]
     },
     "execution_count": 36,
     "metadata": {},
     "output_type": "execute_result"
    }
   ],
   "source": [
    "X_train.head(2)"
   ]
  },
  {
   "cell_type": "markdown",
   "id": "d3ea2f21-1d7b-48d0-87ce-e55440a99360",
   "metadata": {},
   "source": [
    "and"
   ]
  },
  {
   "cell_type": "code",
   "execution_count": 37,
   "id": "8c396114-de58-40b4-bfd3-10c0c7f4f83a",
   "metadata": {},
   "outputs": [
    {
     "data": {
      "text/plain": [
       "array([0.        , 0.69314718, 0.        , ..., 4.12713439, 3.80666249,\n",
       "       4.4308168 ])"
      ]
     },
     "execution_count": 37,
     "metadata": {},
     "output_type": "execute_result"
    }
   ],
   "source": [
    "y_train"
   ]
  },
  {
   "cell_type": "markdown",
   "id": "937ebcf8-8769-46b4-93f8-d54a30194f87",
   "metadata": {},
   "source": [
    "Where `y` contains the `log_bike_count` variable. \n",
    "\n",
    "The test set if in the future as compared to the train set,"
   ]
  },
  {
   "cell_type": "code",
   "execution_count": 38,
   "id": "252bf7ea-2def-46e1-b4fd-583c0e2c3f8b",
   "metadata": {},
   "outputs": [
    {
     "name": "stdout",
     "output_type": "stream",
     "text": [
      "Train: n_samples=455163,  2020-09-01 01:00:00 to 2021-08-09 23:00:00\n",
      "Train: n_samples=41608,  2021-08-10 01:00:00 to 2021-09-09 23:00:00\n"
     ]
    }
   ],
   "source": [
    "print(f'Train: n_samples={X_train.shape[0]},  {X_train[\"date\"].min()} to {X_train[\"date\"].max()}')\n",
    "print(f'Train: n_samples={X_test.shape[0]},  {X_test[\"date\"].min()} to {X_test[\"date\"].max()}')"
   ]
  },
  {
   "cell_type": "code",
   "execution_count": 179,
   "id": "413e7450-5529-47e5-a311-c78e364048ea",
   "metadata": {},
   "outputs": [
    {
     "data": {
      "text/plain": [
       "Pipeline(steps=[('functiontransformer',\n",
       "                 FunctionTransformer(func=<function _encode_dates at 0x7f48ad2255e0>)),\n",
       "                ('columntransformer',\n",
       "                 ColumnTransformer(transformers=[('date',\n",
       "                                                  OneHotEncoder(handle_unknown='ignore'),\n",
       "                                                  ['year', 'month', 'day',\n",
       "                                                   'weekday', 'hour']),\n",
       "                                                 ('cat',\n",
       "                                                  OneHotEncoder(handle_unknown='ignore'),\n",
       "                                                  ['counter_name',\n",
       "                                                   'site_name'])])),\n",
       "                ('ridge', Ridge())])"
      ]
     },
     "execution_count": 179,
     "metadata": {},
     "output_type": "execute_result"
    }
   ],
   "source": [
    "from sklearn.compose import ColumnTransformer\n",
    "from sklearn.linear_model import Ridge\n",
    "from sklearn.pipeline import make_pipeline\n",
    "\n",
    "date_encoder = FunctionTransformer(_encode_dates)\n",
    "date_cols = _encode_dates(X_train[['date']]).columns.tolist()\n",
    "\n",
    "categorical_encoder = OneHotEncoder(handle_unknown=\"ignore\")\n",
    "categorical_cols = [\"counter_name\", \"site_name\"]\n",
    "\n",
    "preprocessor = ColumnTransformer([\n",
    "    ('date', OneHotEncoder(handle_unknown=\"ignore\"), date_cols),\n",
    "    ('cat', categorical_encoder, categorical_cols),\n",
    "])\n",
    "\n",
    "regressor = Ridge()\n",
    "\n",
    "pipe = make_pipeline(date_encoder, preprocessor, regressor)\n",
    "pipe.fit(X_train, y_train)"
   ]
  },
  {
   "cell_type": "markdown",
   "id": "772e16fe-50fd-4229-af39-a6ebefad0a1e",
   "metadata": {},
   "source": [
    "We then evaluate this model with the RMSE metric,"
   ]
  },
  {
   "cell_type": "code",
   "execution_count": 172,
   "id": "4d4d803c-80ea-4423-af83-5666c799838e",
   "metadata": {},
   "outputs": [
    {
     "name": "stdout",
     "output_type": "stream",
     "text": [
      "Train set, RMSE=0.80\n",
      "Test set, RMSE=0.73\n"
     ]
    }
   ],
   "source": [
    "from sklearn.metrics import mean_squared_error\n",
    "\n",
    "print(f'Train set, RMSE={mean_squared_error(y_train, pipe.predict(X_train), squared=False):.2f}')\n",
    "print(f'Test set, RMSE={mean_squared_error(y_test, pipe.predict(X_test), squared=False):.2f}')"
   ]
  },
  {
   "cell_type": "markdown",
   "id": "2298cbed-ff41-49f4-9e51-6925410fc083",
   "metadata": {},
   "source": [
    "The model doesn't have enough capacity to generalize on the train set, since we have lots of data with relatively few parameters. However it happened to work somewhat better on the test set. We can compare these results with the baseline predicting the mean value,"
   ]
  },
  {
   "cell_type": "code",
   "execution_count": 173,
   "id": "f20e09d6-cbe8-4911-bfe1-ef5e939cacb9",
   "metadata": {},
   "outputs": [
    {
     "name": "stdout",
     "output_type": "stream",
     "text": [
      "Baseline mean prediction.\n",
      "Train set, RMSE=1.68\n",
      "Test set, RMSE=1.44\n"
     ]
    }
   ],
   "source": [
    "print('Baseline mean prediction.')\n",
    "print(f'Train set, RMSE={mean_squared_error(y_train, np.full(y_train.shape, y_train.mean()), squared=False):.2f}')\n",
    "print(f'Test set, RMSE={mean_squared_error(y_test, np.full(y_test.shape, y_test.mean()), squared=False):.2f}')"
   ]
  },
  {
   "cell_type": "markdown",
   "id": "c753fe34-a94b-4d18-9497-e516c1ccc4e2",
   "metadata": {},
   "source": [
    "which illustrates that we are performing better than the baseline.\n",
    "\n",
    "Let's visualize the predictions for one of the stations,"
   ]
  },
  {
   "cell_type": "code",
   "execution_count": 158,
   "id": "3a2509f6-7cba-4671-8363-d4abda33ef30",
   "metadata": {},
   "outputs": [],
   "source": [
    "mask = ((X_test['counter_name'] == 'Totem 73 boulevard de Sébastopol S-N')\n",
    "        & (X_test['date'] > pd.to_datetime('2021/09/01'))\n",
    "        & (X_test['date'] < pd.to_datetime('2021/09/08')))\n",
    "\n",
    "df_viz = X_test.loc[mask].copy()\n",
    "df_viz['bike_count'] = np.exp(y_test[mask.values]) - 1\n",
    "df_viz['bike_count (predicted)'] = np.exp(pipe.predict(X_test[mask])) -  1"
   ]
  },
  {
   "cell_type": "code",
   "execution_count": 159,
   "id": "3fab3196-90bd-4918-a509-01cd38b1adfa",
   "metadata": {},
   "outputs": [
    {
     "data": {
      "text/plain": [
       "Text(0, 0.5, 'bike_count')"
      ]
     },
     "execution_count": 159,
     "metadata": {},
     "output_type": "execute_result"
    },
    {
     "data": {
      "image/png": "[encoded data removed]",
      "text/plain": [
       "<Figure size 864x288 with 1 Axes>"
      ]
     },
     "metadata": {
      "needs_background": "light"
     },
     "output_type": "display_data"
    }
   ],
   "source": [
    "fig, ax = plt.subplots(figsize=(12, 4))\n",
    "\n",
    "df_viz.plot(x='date', y='bike_count', ax=ax)\n",
    "df_viz.plot(x='date', y='bike_count (predicted)', ax=ax)\n",
    "ax.set_title('Predictions with Ridge')\n",
    "ax.set_ylabel('bike_count')"
   ]
  },
  {
   "cell_type": "markdown",
   "id": "187d342e-ba15-4741-a457-d4ae31d07c9a",
   "metadata": {},
   "source": [
    "So we start to see the daily trend, and some of the week day differences are accounted for, however we still miss the details and the spikes in the evening are under-estimated.\n",
    "\n",
    "\n",
    "Note that it is recommended to use cross-validation for hyper-parameter tuning with [GridSearchCV](https://scikit-learn.org/stable/modules/generated/sklearn.model_selection.GridSearchCV.html) or more reliable model evaluation with [cross_val_score](https://scikit-learn.org/stable/modules/generated/sklearn.model_selection.cross_val_score.html#sklearn.model_selection.cross_val_score). In this case, because we want the test data to always be in the future as compared to the train data, we can use [TimeSeriesSplit](https://scikit-learn.org/stable/modules/generated/sklearn.model_selection.TimeSeriesSplit.html) splitter,"
   ]
  },
  {
   "cell_type": "code",
   "execution_count": 180,
   "id": "4781077b-9da4-4db4-af9a-c130cb9b2182",
   "metadata": {},
   "outputs": [
    {
     "name": "stdout",
     "output_type": "stream",
     "text": [
      "RMSE:  [-0.82871796 -1.01361312 -0.82011608 -1.08268223 -0.94019597 -1.42230367]\n",
      "RMSE (all folds): 1.02 ± 0.204\n"
     ]
    }
   ],
   "source": [
    "from sklearn.model_selection import TimeSeriesSplit, cross_val_score\n",
    "\n",
    "cv = TimeSeriesSplit(n_splits=6)\n",
    "\n",
    "# When using a scorer in scikit-learn it always needs to be better when smaller, hence the minus sign.\n",
    "scores = cross_val_score(pipe, X_train, y_train, cv=cv, scoring='neg_root_mean_squared_error')\n",
    "print('RMSE: ', scores)\n",
    "print(f'RMSE (all folds): {-scores.mean():.3} ± {(-scores).std():.3}')"
   ]
  },
  {
   "cell_type": "markdown",
   "id": "a9bce65d-dde8-4832-a250-a020ef9b8455",
   "metadata": {},
   "source": [
    "## Ensemble model"
   ]
  },
  {
   "cell_type": "code",
   "execution_count": 188,
   "id": "a302c26e-d76f-441e-bc4d-d08557a1a6dc",
   "metadata": {},
   "outputs": [
    {
     "data": {
      "text/plain": [
       "Pipeline(steps=[('functiontransformer',\n",
       "                 FunctionTransformer(func=<function _encode_dates at 0x7f48ad2255e0>)),\n",
       "                ('columntransformer',\n",
       "                 ColumnTransformer(transformers=[('date', 'passthrough',\n",
       "                                                  ['year', 'month', 'day',\n",
       "                                                   'weekday', 'hour']),\n",
       "                                                 ('cat',\n",
       "                                                  OrdinalEncoder(handle_unknown='use_encoded_value',\n",
       "                                                                 unknown_value=-1),\n",
       "                                                  ['counter_name',\n",
       "                                                   'site_name'])])),\n",
       "                ('histgradientboostingregressor',\n",
       "                 HistGradientBoostingRegressor(random_state=0))])"
      ]
     },
     "execution_count": 188,
     "metadata": {},
     "output_type": "execute_result"
    }
   ],
   "source": [
    "from sklearn.ensemble import HistGradientBoostingRegressor\n",
    "from sklearn.preprocessing import OrdinalEncoder\n",
    "\n",
    "date_encoder = FunctionTransformer(_encode_dates)\n",
    "date_cols = _encode_dates(X_train[['date']]).columns.tolist()\n",
    "\n",
    "categorical_encoder = OneHotEncoder(handle_unknown=\"ignore\")\n",
    "categorical_cols = [\"counter_name\", \"site_name\"]\n",
    "\n",
    "preprocessor = ColumnTransformer([\n",
    "    ('date', \"passthrough\", date_cols),\n",
    "    ('cat', OrdinalEncoder(handle_unknown='use_encoded_value', unknown_value=-1), categorical_cols),\n",
    "])\n",
    "\n",
    "regressor = HistGradientBoostingRegressor(random_state=0)\n",
    "\n",
    "pipe =  make_pipeline(date_encoder, preprocessor, regressor)\n",
    "pipe"
   ]
  },
  {
   "cell_type": "code",
   "execution_count": 189,
   "id": "e5733c29-634d-4be0-8987-5b716c1f76b2",
   "metadata": {},
   "outputs": [
    {
     "name": "stdout",
     "output_type": "stream",
     "text": [
      "RMSE: 1.19 ± 0.242\n"
     ]
    }
   ],
   "source": [
    "scores = cross_val_score(pipe, X_train, y_train, cv=cv, scoring='neg_root_mean_squared_error', error_score=np.nan)\n",
    "print(f'RMSE: {-scores.mean():.3} ± {(-scores).std():.3}')"
   ]
  },
  {
   "cell_type": "markdown",
   "id": "6222ca09-5e74-4d96-8c71-440c8c1d2da5",
   "metadata": {},
   "source": [
    "## Using external data\n",
    "\n",
    "In this starting kit you are provided with weather data from Meteo France, which is known to correlate with cyclist traffic. It is not very accurate however, as the station is in Orly (15km from Paris) and only provides 3 hour updates.\n",
    "\n",
    "To load the external data,"
   ]
  },
  {
   "cell_type": "code",
   "execution_count": 183,
   "id": "280d6f25-a630-4c8b-8d35-85dc2c3464e3",
   "metadata": {},
   "outputs": [
    {
     "data": {
      "text/html": [
       "<div>\n",
       "<style scoped>\n",
       "    .dataframe tbody tr th:only-of-type {\n",
       "        vertical-align: middle;\n",
       "    }\n",
       "\n",
       "    .dataframe tbody tr th {\n",
       "        vertical-align: top;\n",
       "    }\n",
       "\n",
       "    .dataframe thead th {\n",
       "        text-align: right;\n",
       "    }\n",
       "</style>\n",
       "<table border=\"1\" class=\"dataframe\">\n",
       "  <thead>\n",
       "    <tr style=\"text-align: right;\">\n",
       "      <th></th>\n",
       "      <th>numer_sta</th>\n",
       "      <th>date</th>\n",
       "      <th>pmer</th>\n",
       "      <th>tend</th>\n",
       "      <th>cod_tend</th>\n",
       "      <th>dd</th>\n",
       "      <th>ff</th>\n",
       "      <th>t</th>\n",
       "      <th>td</th>\n",
       "      <th>u</th>\n",
       "      <th>...</th>\n",
       "      <th>nnuage2</th>\n",
       "      <th>ctype2</th>\n",
       "      <th>hnuage2</th>\n",
       "      <th>nnuage3</th>\n",
       "      <th>ctype3</th>\n",
       "      <th>hnuage3</th>\n",
       "      <th>nnuage4</th>\n",
       "      <th>ctype4</th>\n",
       "      <th>hnuage4</th>\n",
       "      <th>Unnamed: 59</th>\n",
       "    </tr>\n",
       "  </thead>\n",
       "  <tbody>\n",
       "    <tr>\n",
       "      <th>0</th>\n",
       "      <td>7149</td>\n",
       "      <td>2020-09-01 00:00:00</td>\n",
       "      <td>102050</td>\n",
       "      <td>-10</td>\n",
       "      <td>8</td>\n",
       "      <td>340</td>\n",
       "      <td>1.6</td>\n",
       "      <td>285.75</td>\n",
       "      <td>282.55</td>\n",
       "      <td>81</td>\n",
       "      <td>...</td>\n",
       "      <td>NaN</td>\n",
       "      <td>NaN</td>\n",
       "      <td>NaN</td>\n",
       "      <td>NaN</td>\n",
       "      <td>NaN</td>\n",
       "      <td>NaN</td>\n",
       "      <td>NaN</td>\n",
       "      <td>NaN</td>\n",
       "      <td>NaN</td>\n",
       "      <td>NaN</td>\n",
       "    </tr>\n",
       "    <tr>\n",
       "      <th>1</th>\n",
       "      <td>7149</td>\n",
       "      <td>2020-09-01 03:00:00</td>\n",
       "      <td>101990</td>\n",
       "      <td>-60</td>\n",
       "      <td>6</td>\n",
       "      <td>290</td>\n",
       "      <td>1.1</td>\n",
       "      <td>283.95</td>\n",
       "      <td>282.05</td>\n",
       "      <td>88</td>\n",
       "      <td>...</td>\n",
       "      <td>NaN</td>\n",
       "      <td>NaN</td>\n",
       "      <td>NaN</td>\n",
       "      <td>NaN</td>\n",
       "      <td>NaN</td>\n",
       "      <td>NaN</td>\n",
       "      <td>NaN</td>\n",
       "      <td>NaN</td>\n",
       "      <td>NaN</td>\n",
       "      <td>NaN</td>\n",
       "    </tr>\n",
       "    <tr>\n",
       "      <th>2</th>\n",
       "      <td>7149</td>\n",
       "      <td>2020-09-01 06:00:00</td>\n",
       "      <td>102000</td>\n",
       "      <td>10</td>\n",
       "      <td>3</td>\n",
       "      <td>360</td>\n",
       "      <td>1.8</td>\n",
       "      <td>284.25</td>\n",
       "      <td>282.85</td>\n",
       "      <td>91</td>\n",
       "      <td>...</td>\n",
       "      <td>1.0</td>\n",
       "      <td>0.0</td>\n",
       "      <td>7500.0</td>\n",
       "      <td>NaN</td>\n",
       "      <td>NaN</td>\n",
       "      <td>NaN</td>\n",
       "      <td>NaN</td>\n",
       "      <td>NaN</td>\n",
       "      <td>NaN</td>\n",
       "      <td>NaN</td>\n",
       "    </tr>\n",
       "    <tr>\n",
       "      <th>3</th>\n",
       "      <td>7149</td>\n",
       "      <td>2020-09-01 09:00:00</td>\n",
       "      <td>101970</td>\n",
       "      <td>0</td>\n",
       "      <td>5</td>\n",
       "      <td>360</td>\n",
       "      <td>2.9</td>\n",
       "      <td>291.25</td>\n",
       "      <td>283.35</td>\n",
       "      <td>60</td>\n",
       "      <td>...</td>\n",
       "      <td>1.0</td>\n",
       "      <td>3.0</td>\n",
       "      <td>4500.0</td>\n",
       "      <td>NaN</td>\n",
       "      <td>NaN</td>\n",
       "      <td>NaN</td>\n",
       "      <td>NaN</td>\n",
       "      <td>NaN</td>\n",
       "      <td>NaN</td>\n",
       "      <td>NaN</td>\n",
       "    </tr>\n",
       "    <tr>\n",
       "      <th>4</th>\n",
       "      <td>7149</td>\n",
       "      <td>2020-09-01 12:00:00</td>\n",
       "      <td>101850</td>\n",
       "      <td>-110</td>\n",
       "      <td>6</td>\n",
       "      <td>40</td>\n",
       "      <td>2.6</td>\n",
       "      <td>293.95</td>\n",
       "      <td>281.25</td>\n",
       "      <td>44</td>\n",
       "      <td>...</td>\n",
       "      <td>5.0</td>\n",
       "      <td>NaN</td>\n",
       "      <td>2160.0</td>\n",
       "      <td>NaN</td>\n",
       "      <td>NaN</td>\n",
       "      <td>NaN</td>\n",
       "      <td>NaN</td>\n",
       "      <td>NaN</td>\n",
       "      <td>NaN</td>\n",
       "      <td>NaN</td>\n",
       "    </tr>\n",
       "  </tbody>\n",
       "</table>\n",
       "<p>5 rows × 60 columns</p>\n",
       "</div>"
      ],
      "text/plain": [
       "   numer_sta                 date    pmer  tend  cod_tend   dd   ff       t  \\\n",
       "0       7149  2020-09-01 00:00:00  102050   -10         8  340  1.6  285.75   \n",
       "1       7149  2020-09-01 03:00:00  101990   -60         6  290  1.1  283.95   \n",
       "2       7149  2020-09-01 06:00:00  102000    10         3  360  1.8  284.25   \n",
       "3       7149  2020-09-01 09:00:00  101970     0         5  360  2.9  291.25   \n",
       "4       7149  2020-09-01 12:00:00  101850  -110         6   40  2.6  293.95   \n",
       "\n",
       "       td   u  ...  nnuage2  ctype2  hnuage2  nnuage3  ctype3  hnuage3  \\\n",
       "0  282.55  81  ...      NaN     NaN      NaN      NaN     NaN      NaN   \n",
       "1  282.05  88  ...      NaN     NaN      NaN      NaN     NaN      NaN   \n",
       "2  282.85  91  ...      1.0     0.0   7500.0      NaN     NaN      NaN   \n",
       "3  283.35  60  ...      1.0     3.0   4500.0      NaN     NaN      NaN   \n",
       "4  281.25  44  ...      5.0     NaN   2160.0      NaN     NaN      NaN   \n",
       "\n",
       "   nnuage4  ctype4  hnuage4  Unnamed: 59  \n",
       "0      NaN     NaN      NaN          NaN  \n",
       "1      NaN     NaN      NaN          NaN  \n",
       "2      NaN     NaN      NaN          NaN  \n",
       "3      NaN     NaN      NaN          NaN  \n",
       "4      NaN     NaN      NaN          NaN  \n",
       "\n",
       "[5 rows x 60 columns]"
      ]
     },
     "execution_count": 183,
     "metadata": {},
     "output_type": "execute_result"
    }
   ],
   "source": [
    "df_ext = pd.read_csv(Path('submissions') / 'starting_kit' / 'external_data.csv')\n",
    "df_ext.head()"
   ]
  },
  {
   "cell_type": "markdown",
   "id": "fa719876-a31c-43b4-99c4-0f8b904af9a5",
   "metadata": {},
   "source": [
    "You can find the detailed documentation for each feature [in this PDF](https://donneespubliques.meteofrance.fr/client/document/doc_parametres_synop_168.pdf) (in French). Here the only feature we consider is the temperature. We will use [pandas.merge_asof](https://pandas.pydata.org/pandas-docs/dev/reference/api/pandas.merge_asof.html) to merge on date, using the closest available date (since the sampling between the external data and the counter data)."
   ]
  },
  {
   "cell_type": "code",
   "execution_count": 190,
   "id": "909898dd-1146-4dc2-b319-cae403b15305",
   "metadata": {},
   "outputs": [],
   "source": [
    "# In this notebook we define the __file__ variable to be in the same conditions as when running the\n",
    "# RAMP submission\n",
    "\n",
    "__file__ = Path('submissions') /  'starting_kit' /  'estimator.py'\n",
    "\n",
    "\n",
    "def _merge_external_data(X):\n",
    "    file_path = Path(__file__).parent / 'external_data.csv'\n",
    "    df_ext = pd.read_csv(file_path, parse_dates=['date'])\n",
    "    \n",
    "    X = X.copy()\n",
    "    # When using merge_asof left frame need to be sorted\n",
    "    X['orig_index'] = np.arange(X.shape[0])\n",
    "    X = pd.merge_asof(X.sort_values('date'), df_ext[['date', 't']], on='date')\n",
    "    # Sort back to the original order\n",
    "    X = X.sort_values('orig_index')\n",
    "    del X['orig_index']\n",
    "    return X\n",
    "    "
   ]
  },
  {
   "cell_type": "code",
   "execution_count": 191,
   "id": "b2a10534-d77b-4f5b-b14e-419e5e89d44c",
   "metadata": {},
   "outputs": [
    {
     "data": {
      "text/html": [
       "<div>\n",
       "<style scoped>\n",
       "    .dataframe tbody tr th:only-of-type {\n",
       "        vertical-align: middle;\n",
       "    }\n",
       "\n",
       "    .dataframe tbody tr th {\n",
       "        vertical-align: top;\n",
       "    }\n",
       "\n",
       "    .dataframe thead th {\n",
       "        text-align: right;\n",
       "    }\n",
       "</style>\n",
       "<table border=\"1\" class=\"dataframe\">\n",
       "  <thead>\n",
       "    <tr style=\"text-align: right;\">\n",
       "      <th></th>\n",
       "      <th>counter_id</th>\n",
       "      <th>counter_name</th>\n",
       "      <th>site_id</th>\n",
       "      <th>site_name</th>\n",
       "      <th>date</th>\n",
       "      <th>counter_installation_date</th>\n",
       "      <th>coordinates</th>\n",
       "      <th>counter_technical_id</th>\n",
       "      <th>latitude</th>\n",
       "      <th>longitude</th>\n",
       "      <th>t</th>\n",
       "    </tr>\n",
       "  </thead>\n",
       "  <tbody>\n",
       "    <tr>\n",
       "      <th>107</th>\n",
       "      <td>100007049-102007049</td>\n",
       "      <td>28 boulevard Diderot E-O</td>\n",
       "      <td>100007049</td>\n",
       "      <td>28 boulevard Diderot</td>\n",
       "      <td>2020-09-01 02:00:00</td>\n",
       "      <td>2013-01-18</td>\n",
       "      <td>48.846028,2.375429</td>\n",
       "      <td>Y2H15027244</td>\n",
       "      <td>48.846028</td>\n",
       "      <td>2.375429</td>\n",
       "      <td>285.75</td>\n",
       "    </tr>\n",
       "    <tr>\n",
       "      <th>157</th>\n",
       "      <td>100007049-102007049</td>\n",
       "      <td>28 boulevard Diderot E-O</td>\n",
       "      <td>100007049</td>\n",
       "      <td>28 boulevard Diderot</td>\n",
       "      <td>2020-09-01 03:00:00</td>\n",
       "      <td>2013-01-18</td>\n",
       "      <td>48.846028,2.375429</td>\n",
       "      <td>Y2H15027244</td>\n",
       "      <td>48.846028</td>\n",
       "      <td>2.375429</td>\n",
       "      <td>283.95</td>\n",
       "    </tr>\n",
       "    <tr>\n",
       "      <th>193</th>\n",
       "      <td>100007049-102007049</td>\n",
       "      <td>28 boulevard Diderot E-O</td>\n",
       "      <td>100007049</td>\n",
       "      <td>28 boulevard Diderot</td>\n",
       "      <td>2020-09-01 04:00:00</td>\n",
       "      <td>2013-01-18</td>\n",
       "      <td>48.846028,2.375429</td>\n",
       "      <td>Y2H15027244</td>\n",
       "      <td>48.846028</td>\n",
       "      <td>2.375429</td>\n",
       "      <td>283.95</td>\n",
       "    </tr>\n",
       "    <tr>\n",
       "      <th>769</th>\n",
       "      <td>100007049-102007049</td>\n",
       "      <td>28 boulevard Diderot E-O</td>\n",
       "      <td>100007049</td>\n",
       "      <td>28 boulevard Diderot</td>\n",
       "      <td>2020-09-01 15:00:00</td>\n",
       "      <td>2013-01-18</td>\n",
       "      <td>48.846028,2.375429</td>\n",
       "      <td>Y2H15027244</td>\n",
       "      <td>48.846028</td>\n",
       "      <td>2.375429</td>\n",
       "      <td>293.65</td>\n",
       "    </tr>\n",
       "    <tr>\n",
       "      <th>959</th>\n",
       "      <td>100007049-102007049</td>\n",
       "      <td>28 boulevard Diderot E-O</td>\n",
       "      <td>100007049</td>\n",
       "      <td>28 boulevard Diderot</td>\n",
       "      <td>2020-09-01 18:00:00</td>\n",
       "      <td>2013-01-18</td>\n",
       "      <td>48.846028,2.375429</td>\n",
       "      <td>Y2H15027244</td>\n",
       "      <td>48.846028</td>\n",
       "      <td>2.375429</td>\n",
       "      <td>292.15</td>\n",
       "    </tr>\n",
       "  </tbody>\n",
       "</table>\n",
       "</div>"
      ],
      "text/plain": [
       "              counter_id              counter_name    site_id  \\\n",
       "107  100007049-102007049  28 boulevard Diderot E-O  100007049   \n",
       "157  100007049-102007049  28 boulevard Diderot E-O  100007049   \n",
       "193  100007049-102007049  28 boulevard Diderot E-O  100007049   \n",
       "769  100007049-102007049  28 boulevard Diderot E-O  100007049   \n",
       "959  100007049-102007049  28 boulevard Diderot E-O  100007049   \n",
       "\n",
       "                site_name                date counter_installation_date  \\\n",
       "107  28 boulevard Diderot 2020-09-01 02:00:00                2013-01-18   \n",
       "157  28 boulevard Diderot 2020-09-01 03:00:00                2013-01-18   \n",
       "193  28 boulevard Diderot 2020-09-01 04:00:00                2013-01-18   \n",
       "769  28 boulevard Diderot 2020-09-01 15:00:00                2013-01-18   \n",
       "959  28 boulevard Diderot 2020-09-01 18:00:00                2013-01-18   \n",
       "\n",
       "            coordinates counter_technical_id   latitude  longitude       t  \n",
       "107  48.846028,2.375429          Y2H15027244  48.846028   2.375429  285.75  \n",
       "157  48.846028,2.375429          Y2H15027244  48.846028   2.375429  283.95  \n",
       "193  48.846028,2.375429          Y2H15027244  48.846028   2.375429  283.95  \n",
       "769  48.846028,2.375429          Y2H15027244  48.846028   2.375429  293.65  \n",
       "959  48.846028,2.375429          Y2H15027244  48.846028   2.375429  292.15  "
      ]
     },
     "execution_count": 191,
     "metadata": {},
     "output_type": "execute_result"
    }
   ],
   "source": [
    "X_train_merge = _merge_external_data(X_train)\n",
    "X_train_merge.head()"
   ]
  },
  {
   "cell_type": "markdown",
   "id": "babb2643-31b2-4561-a320-6a3e484b21dd",
   "metadata": {},
   "source": [
    "And similarly we can wrap this function into a FunctionTranformer to use it in a scikit-learn pipeline. Now let's see whether this additional feature improves the model,"
   ]
  },
  {
   "cell_type": "code",
   "execution_count": 192,
   "id": "f4d47e70-83bc-4954-8192-6e7aefd50beb",
   "metadata": {},
   "outputs": [],
   "source": [
    "from sklearn.ensemble import HistGradientBoostingRegressor\n",
    "from sklearn.preprocessing import OrdinalEncoder\n",
    "\n",
    "date_encoder = FunctionTransformer(_encode_dates)\n",
    "date_cols = _encode_dates(X_train[['date']]).columns.tolist()\n",
    "\n",
    "categorical_encoder = OneHotEncoder(handle_unknown=\"ignore\")\n",
    "categorical_cols = [\"counter_name\", \"site_name\"]\n",
    "\n",
    "numeric_cols = ['t']\n",
    "\n",
    "preprocessor = ColumnTransformer([\n",
    "    ('date', \"passthrough\", date_cols),\n",
    "    ('cat', OrdinalEncoder(handle_unknown='use_encoded_value', unknown_value=-1), categorical_cols),\n",
    "    ('numeric', 'passthrough', numeric_cols)\n",
    "])\n",
    "\n",
    "regressor = HistGradientBoostingRegressor(random_state=0)\n",
    "\n",
    "pipe =  make_pipeline(\n",
    "    FunctionTransformer(_merge_external_data, validate=False),\n",
    "    date_encoder,\n",
    "    preprocessor,\n",
    "    regressor\n",
    ")"
   ]
  },
  {
   "cell_type": "code",
   "execution_count": 193,
   "id": "5321b8f1-33f2-4dd8-9ce3-0f1c4ede1a61",
   "metadata": {},
   "outputs": [
    {
     "name": "stdout",
     "output_type": "stream",
     "text": [
      "RMSE: 1.18 ± 0.239\n"
     ]
    }
   ],
   "source": [
    "scores = cross_val_score(pipe, X_train, y_train, cv=cv, scoring='neg_root_mean_squared_error', error_score=np.nan)\n",
    "print(f'RMSE: {-scores.mean():.3} ± {(-scores).std():.3}')"
   ]
  },
  {
   "cell_type": "markdown",
   "id": "59b18d54-5a7d-457c-a628-feb67aef0e0e",
   "metadata": {},
   "source": [
    "## Feature importance"
   ]
  },
  {
   "cell_type": "code",
   "execution_count": 196,
   "id": "36a87b46-5d21-42be-87b6-22619a196e0d",
   "metadata": {},
   "outputs": [
    {
     "data": {
      "text/plain": [
       "Pipeline(steps=[('columntransformer',\n",
       "                 ColumnTransformer(transformers=[('date', 'passthrough',\n",
       "                                                  ['year', 'month', 'day',\n",
       "                                                   'weekday', 'hour']),\n",
       "                                                 ('cat',\n",
       "                                                  OrdinalEncoder(handle_unknown='use_encoded_value',\n",
       "                                                                 unknown_value=-1),\n",
       "                                                  ['counter_name',\n",
       "                                                   'site_name']),\n",
       "                                                 ('numeric', 'passthrough',\n",
       "                                                  ['t'])])),\n",
       "                ('histgradientboostingregressor',\n",
       "                 HistGradientBoostingRegressor(random_state=0))])"
      ]
     },
     "execution_count": 196,
     "metadata": {},
     "output_type": "execute_result"
    }
   ],
   "source": [
    "merger = pipe[:2]\n",
    "X_train_augmented = merger.transform(X_train)\n",
    "X_test_augmented = merger.transform(X_test)\n",
    "\n",
    "predictor = pipe[2:]\n",
    "predictor.fit(X_train_augmented, y_train)"
   ]
  },
  {
   "cell_type": "code",
   "execution_count": 203,
   "id": "362f5f31-220e-47cb-93ae-965e53cbc36a",
   "metadata": {},
   "outputs": [],
   "source": [
    "from sklearn.inspection import permutation_importance\n",
    "\n",
    "feature_importances = permutation_importance(\n",
    "    predictor, X_train_augmented[:20000], y_train[:20000], n_repeats=10\n",
    ")"
   ]
  },
  {
   "cell_type": "code",
   "execution_count": 204,
   "id": "1901c658-1dae-4165-9d3e-fbbc4260315d",
   "metadata": {},
   "outputs": [
    {
     "data": {
      "image/png": "[encoded data removed]",
      "text/plain": [
       "<Figure size 432x288 with 1 Axes>"
      ]
     },
     "metadata": {
      "needs_background": "light"
     },
     "output_type": "display_data"
    }
   ],
   "source": [
    "sorted_idx = feature_importances.importances_mean.argsort()\n",
    "\n",
    "fig, ax = plt.subplots()\n",
    "ax.boxplot(feature_importances.importances[sorted_idx].T,\n",
    "           vert=False, labels=X_train_augmented.columns[sorted_idx])\n",
    "ax.set_title(\"Permutation Importances (train set)\")\n",
    "fig.tight_layout()\n",
    "plt.show()"
   ]
  },
  {
   "cell_type": "markdown",
   "id": "51b154ce-9bed-4afa-9930-cad63aba7e5d",
   "metadata": {},
   "source": [
    "## Submission\n",
    "\n",
    "To submit your code, you can refer to the [online documentation](https://paris-saclay-cds.github.io/ramp-docs/ramp-workflow/stable/using_kits.html).\n",
    "\n",
    "Next steps could be,\n",
    " - more in depth exploratory analysis\n",
    " - use more external data (you can add your data to `external_data.csv` but it needs to remain a single file)\n",
    " - more advanced feature extraction and modeling (see for [this scikit-learn tutorial](https://scikit-learn.org/stable/auto_examples/applications/plot_cyclical_feature_engineering.html#sphx-glr-auto-examples-applications-plot-cyclical-feature-engineering-py))\n",
    " - hyper-parameter search with GridSearchCV\n",
    " "
   ]
  },
  {
   "cell_type": "code",
   "execution_count": 201,
   "id": "f81a372b-3938-48a1-83be-965a3978ac30",
   "metadata": {},
   "outputs": [
    {
     "data": {
      "image/png": "[encoded data removed]",
      "text/plain": [
       "<Figure size 432x288 with 1 Axes>"
      ]
     },
     "metadata": {
      "needs_background": "light"
     },
     "output_type": "display_data"
    }
   ],
   "source": []
  },
  {
   "cell_type": "code",
   "execution_count": null,
   "id": "1586f5a3-9ed1-4574-b8b2-cc4160210929",
   "metadata": {},
   "outputs": [],
   "source": []
  }
 ],
 "metadata": {
  "kernelspec": {
   "display_name": "Python 3 (ipykernel)",
   "language": "python",
   "name": "python3"
  },
  "language_info": {
   "codemirror_mode": {
    "name": "ipython",
    "version": 3
   },
   "file_extension": ".py",
   "mimetype": "text/x-python",
   "name": "python",
   "nbconvert_exporter": "python",
   "pygments_lexer": "ipython3",
   "version": "3.9.7"
  }
 },
 "nbformat": 4,
 "nbformat_minor": 5
}
